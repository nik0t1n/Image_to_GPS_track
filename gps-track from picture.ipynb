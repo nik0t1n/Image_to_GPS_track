{
 "cells": [
  {
   "cell_type": "code",
   "execution_count": 154,
   "metadata": {
    "scrolled": true
   },
   "outputs": [],
   "source": [
    "import requests\n",
    "\n",
    "import matplotlib.pyplot as plt\n",
    "import numpy as np\n",
    "import cv2\n",
    "import math\n",
    "\n",
    "import geopandas as gpd\n",
    "import geojson\n",
    "from shapely.geometry import Point, LineString\n",
    "import flexpolyline\n"
   ]
  },
  {
   "cell_type": "code",
   "execution_count": 155,
   "metadata": {},
   "outputs": [],
   "source": [
    "def image_to_corners(image):\n",
    "    img = cv2.imread(image)\n",
    "    gray = cv2.cvtColor(img, cv2.COLOR_BGR2GRAY)\n",
    "    gray = np.float32(gray)\n",
    "\n",
    "    corners = cv2.goodFeaturesToTrack(gray, 100, 0.0001, 10)\n",
    "    corners = np.int0(corners)\n",
    "    \n",
    "    return corners\n",
    "\n",
    "corners_1 = image_to_corners('test_image_1.png')\n",
    "corners_2 = image_to_corners('test_image_2.jpg')\n",
    "corners_3 = image_to_corners('test_image_3.jpg')"
   ]
  },
  {
   "cell_type": "code",
   "execution_count": 156,
   "metadata": {},
   "outputs": [],
   "source": [
    "squeezed_1 = corners_1.squeeze().tolist()\n",
    "squeezed_2 = corners_2.squeeze().tolist()\n",
    "squeezed_3 = corners_3.squeeze().tolist()"
   ]
  },
  {
   "cell_type": "code",
   "execution_count": 157,
   "metadata": {},
   "outputs": [],
   "source": [
    "def distance(P1, P2):\n",
    "    \"\"\"\n",
    "    To compute the distance between 2 points defined by\n",
    "    P1 = (x1, y1) and P2 = (x2, y2)\n",
    "    \"\"\"\n",
    "    return ((P1[0] - P2[0])**2 + (P1[1] - P2[1])**2)**0.5\n",
    "\n",
    "\n",
    "def optimized_path(coords, start=None):\n",
    "    \"\"\"\n",
    "    To find the nearest point to a point.\n",
    "    Coords format: [ [x1, y1], [x2, y2], ... ]\n",
    "    \"\"\"\n",
    "    if start is None:\n",
    "        start = coords[0]\n",
    "    pass_by = coords\n",
    "    path = [start]\n",
    "    pass_by.remove(start)\n",
    "    while pass_by:\n",
    "        nearest = min(pass_by, key=lambda x: distance(path[-1], x))\n",
    "        path.append(nearest)\n",
    "        pass_by.remove(nearest)\n",
    "    return path"
   ]
  },
  {
   "cell_type": "code",
   "execution_count": 158,
   "metadata": {},
   "outputs": [],
   "source": [
    "path_1 = optimized_path(squeezed_1)\n",
    "path_2 = optimized_path(squeezed_2)\n",
    "path_3 = optimized_path(squeezed_3)"
   ]
  },
  {
   "cell_type": "code",
   "execution_count": 159,
   "metadata": {},
   "outputs": [],
   "source": [
    "x_1 = np.array([i[0] for i in path_1])\n",
    "y_1 = np.array([i[1] for i in path_1])\n",
    "matrix_1 = np.array([x_1, -y_1])\n",
    "\n",
    "x_2 = np.array([i[0] for i in path_2])\n",
    "y_2 = np.array([i[1] for i in path_2])\n",
    "\n",
    "matrix_2 = np.array([x_2, -y_2])\n",
    "\n",
    "x_3 = np.array([i[0] for i in path_3])\n",
    "y_3 = np.array([i[1] for i in path_3])\n",
    "\n",
    "matrix_3 = np.array([x_3, -y_3])"
   ]
  },
  {
   "cell_type": "code",
   "execution_count": 160,
   "metadata": {},
   "outputs": [
    {
     "name": "stdout",
     "output_type": "stream",
     "text": [
      "Введите широту в формате EPSG 3857: 6819755.61\n",
      "Введите долготу в формате EPSG 3857: 12275623.63\n"
     ]
    }
   ],
   "source": [
    "meters = 10\n",
    "\n",
    "# Координаты в системе координат EPSG:3857\n",
    "\n",
    "x_original_point = float(input(\"Введите широту в формате EPSG 3857: \"))\n",
    "y_original_point = float(input(\"Введите долготу в формате EPSG 3857: \"))\n",
    "\n",
    "mx_1 = x_1 * meters + x_original_point\n",
    "my_1 = y_1 * -meters + y_original_point\n",
    "\n",
    "mxy_1 = list(zip(mx_1, my_1))\n",
    "\n",
    "picture_df_1 = gpd.GeoDataFrame(\n",
    "    {'id': range(0, len(mxy_1))},\n",
    "    crs=\"EPSG:3857\",\n",
    "    geometry=[Point(resu) for resu in mxy_1]\n",
    ")\n",
    "\n",
    "picture_df_1['geometry'] = picture_df_1['geometry'].to_crs(epsg=4236)\n",
    "\n",
    "picture_df_1.to_file(\"img1.geojson\", driver=\"GeoJSON\", encoding=\"\")\n",
    "\n",
    "mx_2 = x_2 * meters + x_original_point\n",
    "my_2 = y_2 * -meters + y_original_point\n",
    "\n",
    "mxy_2 = list(zip(mx_2, my_2))\n",
    "\n",
    "picture_df_2 = gpd.GeoDataFrame(\n",
    "    {'id': range(0, len(mxy_2))},\n",
    "    crs=\"EPSG:3857\",\n",
    "    geometry=[Point(resu) for resu in mxy_2]\n",
    ")\n",
    "\n",
    "picture_df_2['geometry'] = picture_df_2['geometry'].to_crs(epsg=4236)\n",
    "\n",
    "picture_df_2.to_file(\"img2.geojson\", driver=\"GeoJSON\", encoding=\"\")\n",
    "\n",
    "mx_3 = x_3 * meters + x_original_point\n",
    "my_3 = y_3 * -meters + y_original_point\n",
    "\n",
    "mxy_3 = list(zip(mx_3, my_3))\n",
    "\n",
    "picture_df_3 = gpd.GeoDataFrame(\n",
    "    {'id': range(0, len(mxy_3))},\n",
    "    crs=\"EPSG:3857\",\n",
    "    geometry=[Point(resu) for resu in mxy_3]\n",
    ")\n",
    "\n",
    "picture_df_3['geometry'] = picture_df_3['geometry'].to_crs(epsg=4236)\n",
    "\n",
    "picture_df_3.to_file(\"img3.geojson\", driver=\"GeoJSON\", encoding=\"\")"
   ]
  },
  {
   "cell_type": "code",
   "execution_count": 170,
   "metadata": {},
   "outputs": [],
   "source": [
    "API_KEY = 'dSOFgNcgQXhsQUxf6xiZ817_iaS6VMlANfTnKVHCO0Y'\n",
    "SERVICE = 'https://router.hereapi.com/v8/routes?apiKey=dSOFgNcgQXhsQUxf6xiZ817_iaS6VMlANfTnKVHCO0Y&transportMode=pedestrian&return=polyline'\n",
    "file = open('img1.geojson')\n",
    "data_1 = geojson.load(file).copy()\n",
    "\n",
    "file.close()\n",
    "\n",
    "file = open('img2.geojson')\n",
    "data_2 = geojson.load(file).copy()\n",
    "\n",
    "file.close()\n",
    "\n",
    "file = open('img3.geojson')\n",
    "data_3 = geojson.load(file).copy()\n",
    "\n",
    "file.close()"
   ]
  },
  {
   "cell_type": "code",
   "execution_count": 171,
   "metadata": {},
   "outputs": [],
   "source": [
    "coords_list_1 = [feature['geometry']['coordinates'] for feature in data_1['features']]\n",
    "\n",
    "start_point_1 = coords_list_1[0]\n",
    "destination_point_1 = coords_list_1[len(coords_list_1) - 1]\n",
    "\n",
    "coords_list_1.remove(start_point_1)\n",
    "coords_list_1.remove(destination_point_1)\n",
    "\n",
    "coords_list_2 = [feature['geometry']['coordinates'] for feature in data_2['features']]\n",
    "\n",
    "start_point_2 = coords_list_2[0]\n",
    "destination_point_2 = coords_list_2[len(coords_list_2) - 1]\n",
    "\n",
    "coords_list_2.remove(start_point_2)\n",
    "coords_list_2.remove(destination_point_2)\n",
    "\n",
    "coords_list_3 = [feature['geometry']['coordinates'] for feature in data_3['features']]\n",
    "\n",
    "start_point_3 = coords_list_3[0]\n",
    "destination_point_3 = coords_list_3[len(coords_list_3) - 1]\n",
    "\n",
    "coords_list_3.remove(start_point_3)\n",
    "coords_list_3.remove(destination_point_3)"
   ]
  },
  {
   "cell_type": "code",
   "execution_count": 172,
   "metadata": {},
   "outputs": [],
   "source": [
    "origin_1 = f'&origin={start_point_1[1]},{start_point_1[0]}'\n",
    "destination_1 = f'&destination={destination_point_1[1]},{destination_point_1[0]}&'\n",
    "waypoints_1 = '&'.join([f'via={coords[1]},{coords[0]}' for coords in coords_list_1])\n",
    "\n",
    "origin_2 = f'&origin={start_point_2[1]},{start_point_2[0]}'\n",
    "destination_2 = f'&destination={destination_point_2[1]},{destination_point_2[0]}&'\n",
    "waypoints_2 = '&'.join([f'via={coords[1]},{coords[0]}' for coords in coords_list_2])\n",
    "\n",
    "origin_3 = f'&origin={start_point_3[1]},{start_point_3[0]}'\n",
    "destination_3 = f'&destination={destination_point_3[1]},{destination_point_3[0]}&'\n",
    "waypoints_3 = '&'.join([f'via={coords[1]},{coords[0]}' for coords in coords_list_3])"
   ]
  },
  {
   "cell_type": "code",
   "execution_count": 178,
   "metadata": {
    "scrolled": true
   },
   "outputs": [],
   "source": [
    "routes_1 = requests.get(SERVICE + origin_1 + destination_1 + waypoints_1).json()\n",
    "routes_2 = requests.get(SERVICE + origin_2 + destination_2 + waypoints_2).json()\n",
    "routes_3 = requests.get(SERVICE + origin_3 + destination_3 + waypoints_3).json()\n",
    "#routes.url"
   ]
  },
  {
   "cell_type": "code",
   "execution_count": 177,
   "metadata": {},
   "outputs": [
    {
     "ename": "IndexError",
     "evalue": "list index out of range",
     "output_type": "error",
     "traceback": [
      "\u001b[1;31m---------------------------------------------------------------------------\u001b[0m",
      "\u001b[1;31mIndexError\u001b[0m                                Traceback (most recent call last)",
      "\u001b[1;32m<ipython-input-177-4a17f49d145b>\u001b[0m in \u001b[0;36m<module>\u001b[1;34m\u001b[0m\n\u001b[0;32m      4\u001b[0m     \u001b[1;32mreturn\u001b[0m \u001b[0mLineString\u001b[0m\u001b[1;33m(\u001b[0m\u001b[0mline\u001b[0m\u001b[1;33m)\u001b[0m\u001b[1;33m\u001b[0m\u001b[1;33m\u001b[0m\u001b[0m\n\u001b[0;32m      5\u001b[0m \u001b[1;33m\u001b[0m\u001b[0m\n\u001b[1;32m----> 6\u001b[1;33m \u001b[0mgeometry_1\u001b[0m \u001b[1;33m=\u001b[0m \u001b[1;33m[\u001b[0m \u001b[0mdecode\u001b[0m\u001b[1;33m(\u001b[0m\u001b[0msection\u001b[0m\u001b[1;33m)\u001b[0m \u001b[1;32mfor\u001b[0m \u001b[0msection\u001b[0m \u001b[1;32min\u001b[0m \u001b[0mroutes_1\u001b[0m\u001b[1;33m[\u001b[0m\u001b[1;34m'routes'\u001b[0m\u001b[1;33m]\u001b[0m\u001b[1;33m[\u001b[0m\u001b[1;36m0\u001b[0m\u001b[1;33m]\u001b[0m\u001b[1;33m[\u001b[0m\u001b[1;34m'sections'\u001b[0m\u001b[1;33m]\u001b[0m \u001b[1;33m]\u001b[0m\u001b[1;33m\u001b[0m\u001b[1;33m\u001b[0m\u001b[0m\n\u001b[0m\u001b[0;32m      7\u001b[0m \u001b[0mgeometry_2\u001b[0m \u001b[1;33m=\u001b[0m \u001b[1;33m[\u001b[0m \u001b[0mdecode\u001b[0m\u001b[1;33m(\u001b[0m\u001b[0msection\u001b[0m\u001b[1;33m)\u001b[0m \u001b[1;32mfor\u001b[0m \u001b[0msection\u001b[0m \u001b[1;32min\u001b[0m \u001b[0mroutes_2\u001b[0m\u001b[1;33m[\u001b[0m\u001b[1;34m'routes'\u001b[0m\u001b[1;33m]\u001b[0m\u001b[1;33m[\u001b[0m\u001b[1;36m0\u001b[0m\u001b[1;33m]\u001b[0m\u001b[1;33m[\u001b[0m\u001b[1;34m'sections'\u001b[0m\u001b[1;33m]\u001b[0m \u001b[1;33m]\u001b[0m\u001b[1;33m\u001b[0m\u001b[1;33m\u001b[0m\u001b[0m\n\u001b[0;32m      8\u001b[0m \u001b[0mgeometry_3\u001b[0m \u001b[1;33m=\u001b[0m \u001b[1;33m[\u001b[0m \u001b[0mdecode\u001b[0m\u001b[1;33m(\u001b[0m\u001b[0msection\u001b[0m\u001b[1;33m)\u001b[0m \u001b[1;32mfor\u001b[0m \u001b[0msection\u001b[0m \u001b[1;32min\u001b[0m \u001b[0mroutes_3\u001b[0m\u001b[1;33m[\u001b[0m\u001b[1;34m'routes'\u001b[0m\u001b[1;33m]\u001b[0m\u001b[1;33m[\u001b[0m\u001b[1;36m0\u001b[0m\u001b[1;33m]\u001b[0m\u001b[1;33m[\u001b[0m\u001b[1;34m'sections'\u001b[0m\u001b[1;33m]\u001b[0m \u001b[1;33m]\u001b[0m\u001b[1;33m\u001b[0m\u001b[1;33m\u001b[0m\u001b[0m\n",
      "\u001b[1;31mIndexError\u001b[0m: list index out of range"
     ]
    }
   ],
   "source": [
    "def decode(section):\n",
    "    line = flexpolyline.decode(section['polyline'])\n",
    "    line = [(coord[1], coord[0]) for coord in line]\n",
    "    return LineString(line)\n",
    "\n",
    "geometry_1 = [ decode(section) for section in routes_1['routes'][0]['sections'] ]\n",
    "geometry_2 = [ decode(section) for section in routes_2['routes'][0]['sections'] ]\n",
    "geometry_3 = [ decode(section) for section in routes_3['routes'][0]['sections'] ]"
   ]
  },
  {
   "cell_type": "code",
   "execution_count": 176,
   "metadata": {},
   "outputs": [
    {
     "ename": "NameError",
     "evalue": "name 'geometry_1' is not defined",
     "output_type": "error",
     "traceback": [
      "\u001b[1;31m---------------------------------------------------------------------------\u001b[0m",
      "\u001b[1;31mNameError\u001b[0m                                 Traceback (most recent call last)",
      "\u001b[1;32m<ipython-input-176-a14f67f6b691>\u001b[0m in \u001b[0;36m<module>\u001b[1;34m\u001b[0m\n\u001b[1;32m----> 1\u001b[1;33m \u001b[0mroute_df_1\u001b[0m \u001b[1;33m=\u001b[0m \u001b[0mgpd\u001b[0m\u001b[1;33m.\u001b[0m\u001b[0mGeoDataFrame\u001b[0m\u001b[1;33m(\u001b[0m\u001b[0mgeometry\u001b[0m\u001b[1;33m=\u001b[0m\u001b[0mgeometry_1\u001b[0m\u001b[1;33m)\u001b[0m\u001b[1;33m\u001b[0m\u001b[1;33m\u001b[0m\u001b[0m\n\u001b[0m\u001b[0;32m      2\u001b[0m \u001b[0mroute_df_2\u001b[0m \u001b[1;33m=\u001b[0m \u001b[0mgpd\u001b[0m\u001b[1;33m.\u001b[0m\u001b[0mGeoDataFrame\u001b[0m\u001b[1;33m(\u001b[0m\u001b[0mgeometry\u001b[0m\u001b[1;33m=\u001b[0m\u001b[0mgeometry_2\u001b[0m\u001b[1;33m)\u001b[0m\u001b[1;33m\u001b[0m\u001b[1;33m\u001b[0m\u001b[0m\n\u001b[0;32m      3\u001b[0m \u001b[0mroute_df_3\u001b[0m \u001b[1;33m=\u001b[0m \u001b[0mgpd\u001b[0m\u001b[1;33m.\u001b[0m\u001b[0mGeoDataFrame\u001b[0m\u001b[1;33m(\u001b[0m\u001b[0mgeometry\u001b[0m\u001b[1;33m=\u001b[0m\u001b[0mgeometry_3\u001b[0m\u001b[1;33m)\u001b[0m\u001b[1;33m\u001b[0m\u001b[1;33m\u001b[0m\u001b[0m\n\u001b[0;32m      4\u001b[0m \u001b[1;33m\u001b[0m\u001b[0m\n\u001b[0;32m      5\u001b[0m \u001b[0mroute_df_1\u001b[0m\u001b[1;33m.\u001b[0m\u001b[0mto_file\u001b[0m\u001b[1;33m(\u001b[0m\u001b[1;34m\"route1.geojson\"\u001b[0m\u001b[1;33m,\u001b[0m \u001b[0mdriver\u001b[0m\u001b[1;33m=\u001b[0m\u001b[1;34m\"GeoJSON\"\u001b[0m\u001b[1;33m,\u001b[0m \u001b[0mencoding\u001b[0m\u001b[1;33m=\u001b[0m\u001b[1;34m\"utf-8\"\u001b[0m\u001b[1;33m)\u001b[0m\u001b[1;33m\u001b[0m\u001b[1;33m\u001b[0m\u001b[0m\n",
      "\u001b[1;31mNameError\u001b[0m: name 'geometry_1' is not defined"
     ]
    }
   ],
   "source": [
    "route_df_1 = gpd.GeoDataFrame(geometry=geometry_1)\n",
    "route_df_2 = gpd.GeoDataFrame(geometry=geometry_2)\n",
    "route_df_3 = gpd.GeoDataFrame(geometry=geometry_3)\n",
    "\n",
    "route_df_1.to_file(\"route1.geojson\", driver=\"GeoJSON\", encoding=\"utf-8\")\n",
    "route_df_2.to_file(\"route2.geojson\", driver=\"GeoJSON\", encoding=\"utf-8\")\n",
    "route_df_3.to_file(\"route3.geojson\", driver=\"GeoJSON\", encoding=\"utf-8\")"
   ]
  },
  {
   "cell_type": "code",
   "execution_count": 136,
   "metadata": {},
   "outputs": [],
   "source": [
    "from pyproj import Proj, transform\n",
    "x_original_4326,x_original_4326 = transform(\"epsg:3857\",\"epsg:4326\",x_original_point,y_original_point)\n",
    "\n",
    "\n",
    "import folium\n",
    "\n",
    "m1 = folium.Map(\n",
    "    location = [x_original_4326, y_original_4326],\n",
    "    zoom_start = 15,\n",
    "    tiles='https://1.base.maps.ls.hereapi.com/maptile/2.1/maptile/newest/reduced.day/{z}/{x}/{y}/256/png?lg=RU&apiKey=dSOFgNcgQXhsQUxf6xiZ817_iaS6VMlANfTnKVHCO0Y',\n",
    "    attr='HERE'\n",
    ")\n",
    "\n",
    "folium.GeoJson('img1.geojson', name=\"geojson\").add_to(m1)\n",
    "folium.GeoJson('route1.geojson', name=\"geojson\").add_to(m1)\n",
    "\n",
    "m1.save('map1.html')\n",
    "\n",
    "m2 = folium.Map(\n",
    "    location = [x_original_4326, y_original_4326],\n",
    "    zoom_start = 15,\n",
    "    tiles='https://1.base.maps.ls.hereapi.com/maptile/2.1/maptile/newest/reduced.day/{z}/{x}/{y}/256/png?lg=RU&apiKey=dSOFgNcgQXhsQUxf6xiZ817_iaS6VMlANfTnKVHCO0Y',\n",
    "    attr='HERE'\n",
    ")\n",
    "\n",
    "folium.GeoJson('img2.geojson', name=\"geojson\").add_to(m2)\n",
    "folium.GeoJson('route2.geojson', name=\"geojson\").add_to(m2)\n",
    "\n",
    "m2.save('map2.html')\n",
    "\n",
    "m3 = folium.Map(\n",
    "    location = [x_original_4326, y_original_4326],\n",
    "    zoom_start = 15,\n",
    "    tiles='https://1.base.maps.ls.hereapi.com/maptile/2.1/maptile/newest/reduced.day/{z}/{x}/{y}/256/png?lg=RU&apiKey=dSOFgNcgQXhsQUxf6xiZ817_iaS6VMlANfTnKVHCO0Y',\n",
    "    attr='HERE'\n",
    ")\n",
    "\n",
    "folium.GeoJson('img3.geojson', name=\"geojson\").add_to(m3)\n",
    "folium.GeoJson('route3.geojson', name=\"geojson\").add_to(m3)\n",
    "\n",
    "m3.save('map3.html')\n"
   ]
  },
  {
   "cell_type": "code",
   "execution_count": 137,
   "metadata": {},
   "outputs": [
    {
     "data": {
      "text/html": [
       "<div style=\"width:100%;\"><div style=\"position:relative;width:100%;height:0;padding-bottom:60%;\"><span style=\"color:#565656\">Make this Notebook Trusted to load map: File -> Trust Notebook</span><iframe src=\"about:blank\" style=\"position:absolute;width:100%;height:100%;left:0;top:0;border:none !important;\" data-html=%3C%21DOCTYPE%20html%3E%0A%3Chead%3E%20%20%20%20%0A%20%20%20%20%3Cmeta%20http-equiv%3D%22content-type%22%20content%3D%22text/html%3B%20charset%3DUTF-8%22%20/%3E%0A%20%20%20%20%0A%20%20%20%20%20%20%20%20%3Cscript%3E%0A%20%20%20%20%20%20%20%20%20%20%20%20L_NO_TOUCH%20%3D%20false%3B%0A%20%20%20%20%20%20%20%20%20%20%20%20L_DISABLE_3D%20%3D%20false%3B%0A%20%20%20%20%20%20%20%20%3C/script%3E%0A%20%20%20%20%0A%20%20%20%20%3Cstyle%3Ehtml%2C%20body%20%7Bwidth%3A%20100%25%3Bheight%3A%20100%25%3Bmargin%3A%200%3Bpadding%3A%200%3B%7D%3C/style%3E%0A%20%20%20%20%3Cstyle%3E%23map%20%7Bposition%3Aabsolute%3Btop%3A0%3Bbottom%3A0%3Bright%3A0%3Bleft%3A0%3B%7D%3C/style%3E%0A%20%20%20%20%3Cscript%20src%3D%22https%3A//cdn.jsdelivr.net/npm/leaflet%401.6.0/dist/leaflet.js%22%3E%3C/script%3E%0A%20%20%20%20%3Cscript%20src%3D%22https%3A//code.jquery.com/jquery-1.12.4.min.js%22%3E%3C/script%3E%0A%20%20%20%20%3Cscript%20src%3D%22https%3A//maxcdn.bootstrapcdn.com/bootstrap/3.2.0/js/bootstrap.min.js%22%3E%3C/script%3E%0A%20%20%20%20%3Cscript%20src%3D%22https%3A//cdnjs.cloudflare.com/ajax/libs/Leaflet.awesome-markers/2.0.2/leaflet.awesome-markers.js%22%3E%3C/script%3E%0A%20%20%20%20%3Clink%20rel%3D%22stylesheet%22%20href%3D%22https%3A//cdn.jsdelivr.net/npm/leaflet%401.6.0/dist/leaflet.css%22/%3E%0A%20%20%20%20%3Clink%20rel%3D%22stylesheet%22%20href%3D%22https%3A//maxcdn.bootstrapcdn.com/bootstrap/3.2.0/css/bootstrap.min.css%22/%3E%0A%20%20%20%20%3Clink%20rel%3D%22stylesheet%22%20href%3D%22https%3A//maxcdn.bootstrapcdn.com/bootstrap/3.2.0/css/bootstrap-theme.min.css%22/%3E%0A%20%20%20%20%3Clink%20rel%3D%22stylesheet%22%20href%3D%22https%3A//maxcdn.bootstrapcdn.com/font-awesome/4.6.3/css/font-awesome.min.css%22/%3E%0A%20%20%20%20%3Clink%20rel%3D%22stylesheet%22%20href%3D%22https%3A//cdnjs.cloudflare.com/ajax/libs/Leaflet.awesome-markers/2.0.2/leaflet.awesome-markers.css%22/%3E%0A%20%20%20%20%3Clink%20rel%3D%22stylesheet%22%20href%3D%22https%3A//cdn.jsdelivr.net/gh/python-visualization/folium/folium/templates/leaflet.awesome.rotate.min.css%22/%3E%0A%20%20%20%20%0A%20%20%20%20%20%20%20%20%20%20%20%20%3Cmeta%20name%3D%22viewport%22%20content%3D%22width%3Ddevice-width%2C%0A%20%20%20%20%20%20%20%20%20%20%20%20%20%20%20%20initial-scale%3D1.0%2C%20maximum-scale%3D1.0%2C%20user-scalable%3Dno%22%20/%3E%0A%20%20%20%20%20%20%20%20%20%20%20%20%3Cstyle%3E%0A%20%20%20%20%20%20%20%20%20%20%20%20%20%20%20%20%23map_182320555376415f97843c0642118aff%20%7B%0A%20%20%20%20%20%20%20%20%20%20%20%20%20%20%20%20%20%20%20%20position%3A%20relative%3B%0A%20%20%20%20%20%20%20%20%20%20%20%20%20%20%20%20%20%20%20%20width%3A%20100.0%25%3B%0A%20%20%20%20%20%20%20%20%20%20%20%20%20%20%20%20%20%20%20%20height%3A%20100.0%25%3B%0A%20%20%20%20%20%20%20%20%20%20%20%20%20%20%20%20%20%20%20%20left%3A%200.0%25%3B%0A%20%20%20%20%20%20%20%20%20%20%20%20%20%20%20%20%20%20%20%20top%3A%200.0%25%3B%0A%20%20%20%20%20%20%20%20%20%20%20%20%20%20%20%20%7D%0A%20%20%20%20%20%20%20%20%20%20%20%20%3C/style%3E%0A%20%20%20%20%20%20%20%20%0A%3C/head%3E%0A%3Cbody%3E%20%20%20%20%0A%20%20%20%20%0A%20%20%20%20%20%20%20%20%20%20%20%20%3Cdiv%20class%3D%22folium-map%22%20id%3D%22map_182320555376415f97843c0642118aff%22%20%3E%3C/div%3E%0A%20%20%20%20%20%20%20%20%0A%3C/body%3E%0A%3Cscript%3E%20%20%20%20%0A%20%20%20%20%0A%20%20%20%20%20%20%20%20%20%20%20%20var%20map_182320555376415f97843c0642118aff%20%3D%20L.map%28%0A%20%20%20%20%20%20%20%20%20%20%20%20%20%20%20%20%22map_182320555376415f97843c0642118aff%22%2C%0A%20%20%20%20%20%20%20%20%20%20%20%20%20%20%20%20%7B%0A%20%20%20%20%20%20%20%20%20%20%20%20%20%20%20%20%20%20%20%20center%3A%20%5B55.84668348740209%2C%2037.501707654705264%5D%2C%0A%20%20%20%20%20%20%20%20%20%20%20%20%20%20%20%20%20%20%20%20crs%3A%20L.CRS.EPSG3857%2C%0A%20%20%20%20%20%20%20%20%20%20%20%20%20%20%20%20%20%20%20%20zoom%3A%2015%2C%0A%20%20%20%20%20%20%20%20%20%20%20%20%20%20%20%20%20%20%20%20zoomControl%3A%20true%2C%0A%20%20%20%20%20%20%20%20%20%20%20%20%20%20%20%20%20%20%20%20preferCanvas%3A%20false%2C%0A%20%20%20%20%20%20%20%20%20%20%20%20%20%20%20%20%7D%0A%20%20%20%20%20%20%20%20%20%20%20%20%29%3B%0A%0A%20%20%20%20%20%20%20%20%20%20%20%20%0A%0A%20%20%20%20%20%20%20%20%0A%20%20%20%20%0A%20%20%20%20%20%20%20%20%20%20%20%20var%20tile_layer_7070c6aa264440999b8cbdf6f981160f%20%3D%20L.tileLayer%28%0A%20%20%20%20%20%20%20%20%20%20%20%20%20%20%20%20%22https%3A//1.base.maps.ls.hereapi.com/maptile/2.1/maptile/newest/reduced.day/%7Bz%7D/%7Bx%7D/%7By%7D/256/png%3Flg%3DRU%5Cu0026apiKey%3DL9oOaFl_HnDRuPbCk9SpJCXoqhk3ZGgprJpSQxZJoqw%22%2C%0A%20%20%20%20%20%20%20%20%20%20%20%20%20%20%20%20%7B%22attribution%22%3A%20%22HERE%22%2C%20%22detectRetina%22%3A%20false%2C%20%22maxNativeZoom%22%3A%2018%2C%20%22maxZoom%22%3A%2018%2C%20%22minZoom%22%3A%200%2C%20%22noWrap%22%3A%20false%2C%20%22opacity%22%3A%201%2C%20%22subdomains%22%3A%20%22abc%22%2C%20%22tms%22%3A%20false%7D%0A%20%20%20%20%20%20%20%20%20%20%20%20%29.addTo%28map_182320555376415f97843c0642118aff%29%3B%0A%20%20%20%20%20%20%20%20%0A%20%20%20%20%0A%0A%20%20%20%20%20%20%20%20function%20geo_json_71f402195bb34e83858996ba728f9e76_onEachFeature%28feature%2C%20layer%29%20%7B%0A%20%20%20%20%20%20%20%20%20%20%20%20layer.on%28%7B%0A%20%20%20%20%20%20%20%20%20%20%20%20%7D%29%3B%0A%20%20%20%20%20%20%20%20%7D%3B%0A%20%20%20%20%20%20%20%20var%20geo_json_71f402195bb34e83858996ba728f9e76%20%3D%20L.geoJson%28null%2C%20%7B%0A%20%20%20%20%20%20%20%20%20%20%20%20%20%20%20%20onEachFeature%3A%20geo_json_71f402195bb34e83858996ba728f9e76_onEachFeature%2C%0A%20%20%20%20%20%20%20%20%20%20%20%20%0A%20%20%20%20%20%20%20%20%7D%29%3B%0A%0A%20%20%20%20%20%20%20%20function%20geo_json_71f402195bb34e83858996ba728f9e76_add%20%28data%29%20%7B%0A%20%20%20%20%20%20%20%20%20%20%20%20geo_json_71f402195bb34e83858996ba728f9e76%0A%20%20%20%20%20%20%20%20%20%20%20%20%20%20%20%20.addData%28data%29%0A%20%20%20%20%20%20%20%20%20%20%20%20%20%20%20%20.addTo%28map_182320555376415f97843c0642118aff%29%3B%0A%20%20%20%20%20%20%20%20%7D%0A%20%20%20%20%20%20%20%20%20%20%20%20geo_json_71f402195bb34e83858996ba728f9e76_add%28%7B%22crs%22%3A%20%7B%22properties%22%3A%20%7B%22name%22%3A%20%22urn%3Aogc%3Adef%3Acrs%3AEPSG%3A%3A3857%22%7D%2C%20%22type%22%3A%20%22name%22%7D%2C%20%22features%22%3A%20%5B%7B%22geometry%22%3A%20%7B%22coordinates%22%3A%20%5B37.52923302701992%2C%2055.83186594301964%5D%2C%20%22type%22%3A%20%22Point%22%7D%2C%20%22properties%22%3A%20%7B%22id%22%3A%200%7D%2C%20%22type%22%3A%20%22Feature%22%7D%2C%20%7B%22geometry%22%3A%20%7B%22coordinates%22%3A%20%5B37.53013112834808%2C%2055.831664176363645%5D%2C%20%22type%22%3A%20%22Point%22%7D%2C%20%22properties%22%3A%20%7B%22id%22%3A%201%7D%2C%20%22type%22%3A%20%22Feature%22%7D%2C%20%7B%22geometry%22%3A%20%7B%22coordinates%22%3A%20%5B37.531208847794524%2C%2055.831311085231484%5D%2C%20%22type%22%3A%20%22Point%22%7D%2C%20%22properties%22%3A%20%7B%22id%22%3A%202%7D%2C%20%22type%22%3A%20%22Feature%22%7D%2C%20%7B%22geometry%22%3A%20%7B%22coordinates%22%3A%20%5B37.53192732514812%2C%2055.83095799309938%5D%2C%20%22type%22%3A%20%22Point%22%7D%2C%20%22properties%22%3A%20%7B%22id%22%3A%203%7D%2C%20%22type%22%3A%20%22Feature%22%7D%2C%20%7B%22geometry%22%3A%20%7B%22coordinates%22%3A%20%5B37.53273560912204%2C%2055.830403129526104%5D%2C%20%22type%22%3A%20%22Point%22%7D%2C%20%22properties%22%3A%20%7B%22id%22%3A%204%7D%2C%20%22type%22%3A%20%22Feature%22%7D%2C%20%7B%22geometry%22%3A%20%7B%22coordinates%22%3A%20%5B37.533274461526794%2C%2055.829848259688816%5D%2C%20%22type%22%3A%20%22Point%22%7D%2C%20%22properties%22%3A%20%7B%22id%22%3A%205%7D%2C%20%22type%22%3A%20%22Feature%22%7D%2C%20%7B%22geometry%22%3A%20%7B%22coordinates%22%3A%20%5B37.53354388333627%2C%2055.82934382704558%5D%2C%20%22type%22%3A%20%22Point%22%7D%2C%20%22properties%22%3A%20%7B%22id%22%3A%206%7D%2C%20%22type%22%3A%20%22Feature%22%7D%2C%20%7B%22geometry%22%3A%20%7B%22coordinates%22%3A%20%5B37.53372349266928%2C%2055.82873850011742%5D%2C%20%22type%22%3A%20%22Point%22%7D%2C%20%22properties%22%3A%20%7B%22id%22%3A%207%7D%2C%20%22type%22%3A%20%22Feature%22%7D%2C%20%7B%22geometry%22%3A%20%7B%22coordinates%22%3A%20%5B37.53363366554432%2C%2055.82788093961679%5D%2C%20%22type%22%3A%20%22Point%22%7D%2C%20%22properties%22%3A%20%7B%22id%22%3A%208%7D%2C%20%22type%22%3A%20%22Feature%22%7D%2C%20%7B%22geometry%22%3A%20%7B%22coordinates%22%3A%20%5B37.53336422322505%2C%2055.827326038746676%5D%2C%20%22type%22%3A%20%22Point%22%7D%2C%20%22properties%22%3A%20%7B%22id%22%3A%209%7D%2C%20%22type%22%3A%20%22Feature%22%7D%2C%20%7B%22geometry%22%3A%20%7B%22coordinates%22%3A%20%5B37.53246610038123%2C%2055.82641800486637%5D%2C%20%22type%22%3A%20%22Point%22%7D%2C%20%22properties%22%3A%20%7B%22id%22%3A%2010%7D%2C%20%22type%22%3A%20%22Feature%22%7D%2C%20%7B%22geometry%22%3A%20%7B%22coordinates%22%3A%20%5B37.531657795870835%2C%2055.82591353433673%5D%2C%20%22type%22%3A%20%22Point%22%7D%2C%20%22properties%22%3A%20%7B%22id%22%3A%2011%7D%2C%20%22type%22%3A%20%22Feature%22%7D%2C%20%7B%22geometry%22%3A%20%7B%22coordinates%22%3A%20%5B37.5306698722554%2C%2055.82550995529678%5D%2C%20%22type%22%3A%20%22Point%22%7D%2C%20%22properties%22%3A%20%7B%22id%22%3A%2012%7D%2C%20%22type%22%3A%20%22Feature%22%7D%2C%20%7B%22geometry%22%3A%20%7B%22coordinates%22%3A%20%5B37.52923289697516%2C%2055.82515682371811%5D%2C%20%22type%22%3A%20%22Point%22%7D%2C%20%22properties%22%3A%20%7B%22id%22%3A%2013%7D%2C%20%22type%22%3A%20%22Feature%22%7D%2C%20%7B%22geometry%22%3A%20%7B%22coordinates%22%3A%20%5B37.528065358161584%2C%2055.82505593304245%5D%2C%20%22type%22%3A%20%22Point%22%7D%2C%20%22properties%22%3A%20%7B%22id%22%3A%2014%7D%2C%20%22type%22%3A%20%22Feature%22%7D%2C%20%7B%22geometry%22%3A%20%7B%22coordinates%22%3A%20%5B37.526628390698654%2C%2055.825106390827166%5D%2C%20%22type%22%3A%20%22Point%22%7D%2C%20%22properties%22%3A%20%7B%22id%22%3A%2015%7D%2C%20%22type%22%3A%20%22Feature%22%7D%2C%20%7B%22geometry%22%3A%20%7B%22coordinates%22%3A%20%5B37.525640477831466%2C%2055.82525774337422%5D%2C%20%22type%22%3A%20%22Point%22%7D%2C%20%22properties%22%3A%20%7B%22id%22%3A%2016%7D%2C%20%22type%22%3A%20%22Feature%22%7D%2C%20%7B%22geometry%22%3A%20%7B%22coordinates%22%3A%20%5B37.524652566923976%2C%2055.825509992264294%5D%2C%20%22type%22%3A%20%22Point%22%7D%2C%20%22properties%22%3A%20%7B%22id%22%3A%2017%7D%2C%20%22type%22%3A%20%22Feature%22%7D%2C%20%7B%22geometry%22%3A%20%7B%22coordinates%22%3A%20%5B37.52366465797803%2C%2055.82586313553422%5D%2C%20%22type%22%3A%20%22Point%22%7D%2C%20%22properties%22%3A%20%7B%22id%22%3A%2018%7D%2C%20%22type%22%3A%20%22Feature%22%7D%2C%20%7B%22geometry%22%3A%20%7B%22coordinates%22%3A%20%5B37.52267673532079%2C%2055.82551000441787%5D%2C%20%22type%22%3A%20%22Point%22%7D%2C%20%22properties%22%3A%20%7B%22id%22%3A%2019%7D%2C%20%22type%22%3A%20%22Feature%22%7D%2C%20%7B%22geometry%22%3A%20%7B%22coordinates%22%3A%20%5B37.52123976002097%2C%2055.82515687286083%5D%2C%20%22type%22%3A%20%22Point%22%7D%2C%20%22properties%22%3A%20%7B%22id%22%3A%2020%7D%2C%20%22type%22%3A%20%22Feature%22%7D%2C%20%7B%22geometry%22%3A%20%7B%22coordinates%22%3A%20%5B37.52007222120041%2C%2055.82505598220285%5D%2C%20%22type%22%3A%20%22Point%22%7D%2C%20%22properties%22%3A%20%7B%22id%22%3A%2021%7D%2C%20%22type%22%3A%20%22Feature%22%7D%2C%20%7B%22geometry%22%3A%20%7B%22coordinates%22%3A%20%5B37.518635253737244%2C%2055.82510644000942%5D%2C%20%22type%22%3A%20%22Point%22%7D%2C%20%22properties%22%3A%20%7B%22id%22%3A%2022%7D%2C%20%22type%22%3A%20%22Feature%22%7D%2C%20%7B%22geometry%22%3A%20%7B%22coordinates%22%3A%20%5B37.5176473408755%2C%2055.82525779257158%5D%2C%20%22type%22%3A%20%22Point%22%7D%2C%20%22properties%22%3A%20%7B%22id%22%3A%2023%7D%2C%20%22type%22%3A%20%22Feature%22%7D%2C%20%7B%22geometry%22%3A%20%7B%22coordinates%22%3A%20%5B37.51665942997828%2C%2055.825510041476804%5D%2C%20%22type%22%3A%20%22Point%22%7D%2C%20%22properties%22%3A%20%7B%22id%22%3A%2024%7D%2C%20%22type%22%3A%20%22Feature%22%7D%2C%20%7B%22geometry%22%3A%20%7B%22coordinates%22%3A%20%5B37.51540209339274%2C%2055.826064977666185%5D%2C%20%22type%22%3A%20%22Point%22%7D%2C%20%22properties%22%3A%20%7B%22id%22%3A%2025%7D%2C%20%22type%22%3A%20%22Feature%22%7D%2C%20%7B%22geometry%22%3A%20%7B%22coordinates%22%3A%20%5B37.51477342755826%2C%2055.82646856088794%5D%2C%20%22type%22%3A%20%22Point%22%7D%2C%20%22properties%22%3A%20%7B%22id%22%3A%2026%7D%2C%20%22type%22%3A%20%22Feature%22%7D%2C%20%7B%22geometry%22%3A%20%7B%22coordinates%22%3A%20%5B37.514144765656006%2C%2055.827073925930016%5D%2C%20%22type%22%3A%20%22Point%22%7D%2C%20%22properties%22%3A%20%7B%22id%22%3A%2027%7D%2C%20%22type%22%3A%20%22Feature%22%7D%2C%20%7B%22geometry%22%3A%20%7B%22coordinates%22%3A%20%5B37.51378553435543%2C%2055.827628834268765%5D%2C%20%22type%22%3A%20%22Point%22%7D%2C%20%22properties%22%3A%20%7B%22id%22%3A%2028%7D%2C%20%22type%22%3A%20%22Feature%22%7D%2C%20%7B%22geometry%22%3A%20%7B%22coordinates%22%3A%20%5B37.51360592509233%2C%2055.828234178480066%5D%2C%20%22type%22%3A%20%22Point%22%7D%2C%20%22properties%22%3A%20%7B%22id%22%3A%2029%7D%2C%20%22type%22%3A%20%22Feature%22%7D%2C%20%7B%22geometry%22%3A%20%7B%22coordinates%22%3A%20%5B37.51360593491742%2C%2055.82873862386774%5D%2C%20%22type%22%3A%20%22Point%22%7D%2C%20%22properties%22%3A%20%7B%22id%22%3A%2030%7D%2C%20%22type%22%3A%20%22Feature%22%7D%2C%20%7B%22geometry%22%3A%20%7B%22coordinates%22%3A%20%5B37.51378556775888%2C%2055.829343948586924%5D%2C%20%22type%22%3A%20%22Point%22%7D%2C%20%22properties%22%3A%20%7B%22id%22%3A%2031%7D%2C%20%22type%22%3A%20%22Feature%22%7D%2C%20%7B%22geometry%22%3A%20%7B%22coordinates%22%3A%20%5B37.51405500915969%2C%2055.8298483779161%5D%2C%20%22type%22%3A%20%22Point%22%7D%2C%20%22properties%22%3A%20%7B%22id%22%3A%2032%7D%2C%20%22type%22%3A%20%22Feature%22%7D%2C%20%7B%22geometry%22%3A%20%7B%22coordinates%22%3A%20%5B37.51459388311629%2C%2055.83040324112455%5D%2C%20%22type%22%3A%20%22Point%22%7D%2C%20%22properties%22%3A%20%7B%22id%22%3A%2033%7D%2C%20%22type%22%3A%20%22Feature%22%7D%2C%20%7B%22geometry%22%3A%20%7B%22coordinates%22%3A%20%5B37.51522256562992%2C%2055.83085721306624%5D%2C%20%22type%22%3A%20%22Point%22%7D%2C%20%22properties%22%3A%20%7B%22id%22%3A%2034%7D%2C%20%22type%22%3A%20%22Feature%22%7D%2C%20%7B%22geometry%22%3A%20%7B%22coordinates%22%3A%20%5B37.51612067971354%2C%2055.83131117804702%5D%2C%20%22type%22%3A%20%22Point%22%7D%2C%20%22properties%22%3A%20%7B%22id%22%3A%2035%7D%2C%20%22type%22%3A%20%22Feature%22%7D%2C%20%7B%22geometry%22%3A%20%7B%22coordinates%22%3A%20%5B37.51701879084744%2C%2055.83161381657833%5D%2C%20%22type%22%3A%20%22Point%22%7D%2C%20%22properties%22%3A%20%7B%22id%22%3A%2036%7D%2C%20%22type%22%3A%20%22Feature%22%7D%2C%20%7B%22geometry%22%3A%20%7B%22coordinates%22%3A%20%5B37.518096522044836%2C%2055.831866011526785%5D%2C%20%22type%22%3A%20%22Point%22%7D%2C%20%22properties%22%3A%20%7B%22id%22%3A%2037%7D%2C%20%22type%22%3A%20%22Feature%22%7D%2C%20%7B%22geometry%22%3A%20%7B%22coordinates%22%3A%20%5B37.51818635219427%2C%2055.83287480097749%5D%2C%20%22type%22%3A%20%22Point%22%7D%2C%20%22properties%22%3A%20%7B%22id%22%3A%2038%7D%2C%20%22type%22%3A%20%22Feature%22%7D%2C%20%7B%22geometry%22%3A%20%7B%22coordinates%22%3A%20%5B37.518365989922565%2C%2055.83373225079535%5D%2C%20%22type%22%3A%20%22Point%22%7D%2C%20%22properties%22%3A%20%7B%22id%22%3A%2039%7D%2C%20%22type%22%3A%20%22Feature%22%7D%2C%20%7B%22geometry%22%3A%20%7B%22coordinates%22%3A%20%5B37.51836600169784%2C%2055.83433749888628%5D%2C%20%22type%22%3A%20%22Point%22%7D%2C%20%22properties%22%3A%20%7B%22id%22%3A%2040%7D%2C%20%22type%22%3A%20%22Feature%22%7D%2C%20%7B%22geometry%22%3A%20%7B%22coordinates%22%3A%20%5B37.51854563942455%2C%2055.83519491644599%5D%2C%20%22type%22%3A%20%22Point%22%7D%2C%20%22properties%22%3A%20%7B%22id%22%3A%2041%7D%2C%20%22type%22%3A%20%22Feature%22%7D%2C%20%7B%22geometry%22%3A%20%7B%22coordinates%22%3A%20%5B37.51854565119982%2C%2055.83580014176668%5D%2C%20%22type%22%3A%20%22Point%22%7D%2C%20%22properties%22%3A%20%7B%22id%22%3A%2042%7D%2C%20%22type%22%3A%20%22Feature%22%7D%2C%20%7B%22geometry%22%3A%20%7B%22coordinates%22%3A%20%5B37.51872528892494%2C%2055.83665752706893%5D%2C%20%22type%22%3A%20%22Point%22%7D%2C%20%22properties%22%3A%20%7B%22id%22%3A%2043%7D%2C%20%22type%22%3A%20%22Feature%22%7D%2C%20%7B%22geometry%22%3A%20%7B%22coordinates%22%3A%20%5B37.51872530070022%2C%2055.83726272961982%5D%2C%20%22type%22%3A%20%22Point%22%7D%2C%20%22properties%22%3A%20%7B%22id%22%3A%2044%7D%2C%20%22type%22%3A%20%22Feature%22%7D%2C%20%7B%22geometry%22%3A%20%7B%22coordinates%22%3A%20%5B37.51890493842373%2C%2055.838120082665235%5D%2C%20%22type%22%3A%20%22Point%22%7D%2C%20%22properties%22%3A%20%7B%22id%22%3A%2045%7D%2C%20%22type%22%3A%20%22Feature%22%7D%2C%20%7B%22geometry%22%3A%20%7B%22coordinates%22%3A%20%5B37.518904950198994%2C%2055.83872526244681%5D%2C%20%22type%22%3A%20%22Point%22%7D%2C%20%22properties%22%3A%20%7B%22id%22%3A%2046%7D%2C%20%22type%22%3A%20%22Feature%22%7D%2C%20%7B%22geometry%22%3A%20%7B%22coordinates%22%3A%20%5B37.518994775438436%2C%2055.83948172337127%5D%2C%20%22type%22%3A%20%22Point%22%7D%2C%20%22properties%22%3A%20%7B%22id%22%3A%2047%7D%2C%20%22type%22%3A%20%22Feature%22%7D%2C%20%7B%22geometry%22%3A%20%7B%22coordinates%22%3A%20%5B37.519084601658754%2C%2055.840288598834896%5D%2C%20%22type%22%3A%20%22Point%22%7D%2C%20%22properties%22%3A%20%7B%22id%22%3A%2048%7D%2C%20%22type%22%3A%20%22Feature%22%7D%2C%20%7B%22geometry%22%3A%20%7B%22coordinates%22%3A%20%5B37.51890499533997%2C%2055.841045030995765%5D%2C%20%22type%22%3A%20%22Point%22%7D%2C%20%22properties%22%3A%20%7B%22id%22%3A%2049%7D%2C%20%22type%22%3A%20%22Feature%22%7D%2C%20%7B%22geometry%22%3A%20%7B%22coordinates%22%3A%20%5B37.51890500711653%2C%2055.8416501652401%5D%2C%20%22type%22%3A%20%22Point%22%7D%2C%20%22properties%22%3A%20%7B%22id%22%3A%2050%7D%2C%20%22type%22%3A%20%22Feature%22%7D%2C%20%7B%22geometry%22%3A%20%7B%22coordinates%22%3A%20%5B37.518994827449085%2C%2055.84215443602688%5D%2C%20%22type%22%3A%20%22Point%22%7D%2C%20%22properties%22%3A%20%7B%22id%22%3A%2051%7D%2C%20%22type%22%3A%20%22Feature%22%7D%2C%20%7B%22geometry%22%3A%20%7B%22coordinates%22%3A%20%5B37.519174458299524%2C%2055.842658699717866%5D%2C%20%22type%22%3A%20%22Point%22%7D%2C%20%22properties%22%3A%20%7B%22id%22%3A%2052%7D%2C%20%22type%22%3A%20%22Feature%22%7D%2C%20%7B%22geometry%22%3A%20%7B%22coordinates%22%3A%20%5B37.51962352364673%2C%2055.84331423140742%5D%2C%20%22type%22%3A%20%22Point%22%7D%2C%20%22properties%22%3A%20%7B%22id%22%3A%2053%7D%2C%20%22type%22%3A%20%22Feature%22%7D%2C%20%7B%22geometry%22%3A%20%7B%22coordinates%22%3A%20%5B37.52007258506619%2C%2055.84376805371083%5D%2C%20%22type%22%3A%20%22Point%22%7D%2C%20%22properties%22%3A%20%7B%22id%22%3A%2054%7D%2C%20%22type%22%3A%20%22Feature%22%7D%2C%20%7B%22geometry%22%3A%20%7B%22coordinates%22%3A%20%5B37.52061145601974%2C%2055.84417144600499%5D%2C%20%22type%22%3A%20%22Point%22%7D%2C%20%22properties%22%3A%20%7B%22id%22%3A%2055%7D%2C%20%22type%22%3A%20%22Feature%22%7D%2C%20%7B%22geometry%22%3A%20%7B%22coordinates%22%3A%20%5B37.52150957002019%2C%2055.84462525553459%5D%2C%20%22type%22%3A%20%22Point%22%7D%2C%20%22properties%22%3A%20%7B%22id%22%3A%2056%7D%2C%20%22type%22%3A%20%22Feature%22%7D%2C%20%7B%22geometry%22%3A%20%7B%22coordinates%22%3A%20%5B37.52231786957689%2C%2055.84487736774659%5D%2C%20%22type%22%3A%20%22Point%22%7D%2C%20%22properties%22%3A%20%7B%22id%22%3A%2057%7D%2C%20%22type%22%3A%20%22Feature%22%7D%2C%20%7B%22geometry%22%3A%20%7B%22coordinates%22%3A%20%5B37.52402427233953%2C%2055.84502862677389%5D%2C%20%22type%22%3A%20%22Point%22%7D%2C%20%22properties%22%3A%20%7B%22id%22%3A%2058%7D%2C%20%22type%22%3A%20%22Feature%22%7D%2C%20%7B%22geometry%22%3A%20%7B%22coordinates%22%3A%20%5B37.5250121850862%2C%2055.84487735116977%5D%2C%20%22type%22%3A%20%22Point%22%7D%2C%20%22properties%22%3A%20%7B%22id%22%3A%2059%7D%2C%20%22type%22%3A%20%22Feature%22%7D%2C%20%7B%22geometry%22%3A%20%7B%22coordinates%22%3A%20%5B37.52582047484162%2C%2055.84462522901173%5D%2C%20%22type%22%3A%20%22Point%22%7D%2C%20%22properties%22%3A%20%7B%22id%22%3A%2060%7D%2C%20%22type%22%3A%20%22Feature%22%7D%2C%20%7B%22geometry%22%3A%20%7B%22coordinates%22%3A%20%5B37.52671857120007%2C%2055.844171408431166%5D%2C%20%22type%22%3A%20%22Point%22%7D%2C%20%22properties%22%3A%20%7B%22id%22%3A%2061%7D%2C%20%22type%22%3A%20%22Feature%22%7D%2C%20%7B%22geometry%22%3A%20%7B%22coordinates%22%3A%20%5B37.527257426472225%2C%2055.84376800950653%5D%2C%20%22type%22%3A%20%22Point%22%7D%2C%20%22properties%22%3A%20%7B%22id%22%3A%2062%7D%2C%20%22type%22%3A%20%22Feature%22%7D%2C%20%7B%22geometry%22%3A%20%7B%22coordinates%22%3A%20%5B37.527796278810776%2C%2055.84321333039096%5D%2C%20%22type%22%3A%20%22Point%22%7D%2C%20%22properties%22%3A%20%7B%22id%22%3A%2063%7D%2C%20%22type%22%3A%20%22Feature%22%7D%2C%20%7B%22geometry%22%3A%20%7B%22coordinates%22%3A%20%5B37.5281555101169%2C%2055.8426586444632%5D%2C%20%22type%22%3A%20%22Point%22%7D%2C%20%22properties%22%3A%20%7B%22id%22%3A%2064%7D%2C%20%22type%22%3A%20%22Feature%22%7D%2C%20%7B%22geometry%22%3A%20%7B%22coordinates%22%3A%20%5B37.528335121367434%2C%2055.84215437856238%5D%2C%20%22type%22%3A%20%22Point%22%7D%2C%20%22properties%22%3A%20%7B%22id%22%3A%2065%7D%2C%20%22type%22%3A%20%22Feature%22%7D%2C%20%7B%22geometry%22%3A%20%7B%22coordinates%22%3A%20%5B37.528424922100605%2C%2055.84165010667085%5D%2C%20%22type%22%3A%20%22Point%22%7D%2C%20%22properties%22%3A%20%7B%22id%22%3A%2066%7D%2C%20%22type%22%3A%20%22Feature%22%7D%2C%20%7B%22geometry%22%3A%20%7B%22coordinates%22%3A%20%5B37.528424910358645%2C%2055.84104497242693%5D%2C%20%22type%22%3A%20%22Point%22%7D%2C%20%22properties%22%3A%20%7B%22id%22%3A%2067%7D%2C%20%22type%22%3A%20%22Feature%22%7D%2C%20%7B%22geometry%22%3A%20%7B%22coordinates%22%3A%20%5B37.52824527562136%2C%2055.84033897167161%5D%2C%20%22type%22%3A%20%22Point%22%7D%2C%20%22properties%22%3A%20%7B%22id%22%3A%2068%7D%2C%20%22type%22%3A%20%22Feature%22%7D%2C%20%7B%22geometry%22%3A%20%7B%22coordinates%22%3A%20%5B37.528245258986885%2C%2055.83948166646029%5D%2C%20%22type%22%3A%20%22Point%22%7D%2C%20%22properties%22%3A%20%7B%22id%22%3A%2069%7D%2C%20%22type%22%3A%20%22Feature%22%7D%2C%20%7B%22geometry%22%3A%20%7B%22coordinates%22%3A%20%5B37.52833505483005%2C%2055.83872520443127%5D%2C%20%22type%22%3A%20%22Point%22%7D%2C%20%22properties%22%3A%20%7B%22id%22%3A%2070%7D%2C%20%22type%22%3A%20%22Feature%22%7D%2C%20%7B%22geometry%22%3A%20%7B%22coordinates%22%3A%20%5B37.52833504308906%2C%2055.83812002465011%5D%2C%20%22type%22%3A%20%22Point%22%7D%2C%20%22properties%22%3A%20%7B%22id%22%3A%2071%7D%2C%20%22type%22%3A%20%22Feature%22%7D%2C%20%7B%22geometry%22%3A%20%7B%22coordinates%22%3A%20%5B37.5285146474984%2C%2055.8372626693952%5D%2C%20%22type%22%3A%20%22Point%22%7D%2C%20%22properties%22%3A%20%7B%22id%22%3A%2072%7D%2C%20%22type%22%3A%20%22Feature%22%7D%2C%20%7B%22geometry%22%3A%20%7B%22coordinates%22%3A%20%5B37.5285146357587%2C%2055.83665746684472%5D%2C%20%22type%22%3A%20%22Point%22%7D%2C%20%22properties%22%3A%20%7B%22id%22%3A%2073%7D%2C%20%22type%22%3A%20%22Feature%22%7D%2C%20%7B%22geometry%22%3A%20%7B%22coordinates%22%3A%20%5B37.52869424017146%2C%2055.83580007933303%5D%2C%20%22type%22%3A%20%22Point%22%7D%2C%20%22properties%22%3A%20%7B%22id%22%3A%2074%7D%2C%20%22type%22%3A%20%22Feature%22%7D%2C%20%7B%22geometry%22%3A%20%7B%22coordinates%22%3A%20%5B37.528694228433054%2C%2055.8351948540128%5D%2C%20%22type%22%3A%20%22Point%22%7D%2C%20%22properties%22%3A%20%7B%22id%22%3A%2075%7D%2C%20%22type%22%3A%20%22Feature%22%7D%2C%20%7B%22geometry%22%3A%20%7B%22coordinates%22%3A%20%5B37.52887383284922%2C%2055.834337434243714%5D%2C%20%22type%22%3A%20%22Point%22%7D%2C%20%22properties%22%3A%20%7B%22id%22%3A%2076%7D%2C%20%22type%22%3A%20%22Feature%22%7D%2C%20%7B%22geometry%22%3A%20%7B%22coordinates%22%3A%20%5B37.528873821112114%2C%2055.83373218615323%5D%2C%20%22type%22%3A%20%22Point%22%7D%2C%20%22properties%22%3A%20%7B%22id%22%3A%2077%7D%2C%20%22type%22%3A%20%22Feature%22%7D%2C%20%7B%22geometry%22%3A%20%7B%22coordinates%22%3A%20%5B37.529053425531686%2C%2055.83287473412606%5D%2C%20%22type%22%3A%20%22Point%22%7D%2C%20%22properties%22%3A%20%7B%22id%22%3A%2078%7D%2C%20%22type%22%3A%20%22Feature%22%7D%5D%2C%20%22type%22%3A%20%22FeatureCollection%22%7D%29%3B%0A%0A%20%20%20%20%20%20%20%20%0A%20%20%20%20%0A%0A%20%20%20%20%20%20%20%20function%20geo_json_8995a3327ea049e3bb2da6a9659088c7_onEachFeature%28feature%2C%20layer%29%20%7B%0A%20%20%20%20%20%20%20%20%20%20%20%20layer.on%28%7B%0A%20%20%20%20%20%20%20%20%20%20%20%20%7D%29%3B%0A%20%20%20%20%20%20%20%20%7D%3B%0A%20%20%20%20%20%20%20%20var%20geo_json_8995a3327ea049e3bb2da6a9659088c7%20%3D%20L.geoJson%28null%2C%20%7B%0A%20%20%20%20%20%20%20%20%20%20%20%20%20%20%20%20onEachFeature%3A%20geo_json_8995a3327ea049e3bb2da6a9659088c7_onEachFeature%2C%0A%20%20%20%20%20%20%20%20%20%20%20%20%0A%20%20%20%20%20%20%20%20%7D%29%3B%0A%0A%20%20%20%20%20%20%20%20function%20geo_json_8995a3327ea049e3bb2da6a9659088c7_add%20%28data%29%20%7B%0A%20%20%20%20%20%20%20%20%20%20%20%20geo_json_8995a3327ea049e3bb2da6a9659088c7%0A%20%20%20%20%20%20%20%20%20%20%20%20%20%20%20%20.addData%28data%29%0A%20%20%20%20%20%20%20%20%20%20%20%20%20%20%20%20.addTo%28map_182320555376415f97843c0642118aff%29%3B%0A%20%20%20%20%20%20%20%20%7D%0A%20%20%20%20%20%20%20%20%20%20%20%20geo_json_8995a3327ea049e3bb2da6a9659088c7_add%28%7B%22features%22%3A%20%5B%7B%22geometry%22%3A%20%7B%22coordinates%22%3A%20%5B%5B37.5293%2C%2055.83182%5D%2C%20%5B37.52994%2C%2055.83166%5D%2C%20%5B37.53001%2C%2055.83164%5D%5D%2C%20%22type%22%3A%20%22LineString%22%7D%2C%20%22properties%22%3A%20%7B%7D%2C%20%22type%22%3A%20%22Feature%22%7D%2C%20%7B%22geometry%22%3A%20%7B%22coordinates%22%3A%20%5B%5B37.53001%2C%2055.83164%5D%2C%20%5B37.53001%2C%2055.83164%5D%2C%20%5B37.53048%2C%2055.83152%5D%2C%20%5B37.53093%2C%2055.83208%5D%2C%20%5B37.53112%2C%2055.83203%5D%2C%20%5B37.53169%2C%2055.83188%5D%2C%20%5B37.53138%2C%2055.83152%5D%2C%20%5B37.531218%2C%2055.831309%5D%5D%2C%20%22type%22%3A%20%22LineString%22%7D%2C%20%22properties%22%3A%20%7B%7D%2C%20%22type%22%3A%20%22Feature%22%7D%2C%20%7B%22geometry%22%3A%20%7B%22coordinates%22%3A%20%5B%5B37.531218%2C%2055.831309%5D%2C%20%5B37.53115%2C%2055.83122%5D%2C%20%5B37.53091%2C%2055.83092%5D%2C%20%5B37.53064%2C%2055.83058%5D%2C%20%5B37.53098%2C%2055.83048%5D%2C%20%5B37.53117%2C%2055.83043%5D%2C%20%5B37.53124%2C%2055.8306%5D%2C%20%5B37.5313%2C%2055.83072%5D%2C%20%5B37.53138%2C%2055.83085%5D%2C%20%5B37.53154%2C%2055.83109%5D%2C%20%5B37.53162%2C%2055.83109%5D%2C%20%5B37.5317%2C%2055.83107%5D%2C%20%5B37.53177%2C%2055.83103%5D%2C%20%5B37.531796%2C%2055.830945%5D%5D%2C%20%22type%22%3A%20%22LineString%22%7D%2C%20%22properties%22%3A%20%7B%7D%2C%20%22type%22%3A%20%22Feature%22%7D%2C%20%7B%22geometry%22%3A%20%7B%22coordinates%22%3A%20%5B%5B37.531796%2C%2055.830945%5D%2C%20%5B37.53177%2C%2055.83103%5D%2C%20%5B37.53198%2C%2055.83106%5D%2C%20%5B37.53207%2C%2055.83093%5D%2C%20%5B37.5322%2C%2055.83086%5D%2C%20%5B37.53265%2C%2055.83065%5D%2C%20%5B37.53272%2C%2055.83032%5D%5D%2C%20%22type%22%3A%20%22LineString%22%7D%2C%20%22properties%22%3A%20%7B%7D%2C%20%22type%22%3A%20%22Feature%22%7D%2C%20%7B%22geometry%22%3A%20%7B%22coordinates%22%3A%20%5B%5B37.53272%2C%2055.83032%5D%2C%20%5B37.53272%2C%2055.83032%5D%2C%20%5B37.53277%2C%2055.83015%5D%2C%20%5B37.53291%2C%2055.82966%5D%2C%20%5B37.533339%2C%2055.829749%5D%5D%2C%20%22type%22%3A%20%22LineString%22%7D%2C%20%22properties%22%3A%20%7B%7D%2C%20%22type%22%3A%20%22Feature%22%7D%2C%20%7B%22geometry%22%3A%20%7B%22coordinates%22%3A%20%5B%5B37.533339%2C%2055.829749%5D%2C%20%5B37.53291%2C%2055.82966%5D%2C%20%5B37.53302%2C%2055.82957%5D%2C%20%5B37.53328%2C%2055.8295%5D%2C%20%5B37.533601%2C%2055.829405%5D%5D%2C%20%22type%22%3A%20%22LineString%22%7D%2C%20%22properties%22%3A%20%7B%7D%2C%20%22type%22%3A%20%22Feature%22%7D%2C%20%7B%22geometry%22%3A%20%7B%22coordinates%22%3A%20%5B%5B37.533601%2C%2055.829405%5D%2C%20%5B37.53372%2C%2055.82937%5D%2C%20%5B37.53391%2C%2055.82927%5D%2C%20%5B37.53415%2C%2055.82904%5D%2C%20%5B37.53437%2C%2055.82893%5D%2C%20%5B37.53473%2C%2055.82857%5D%2C%20%5B37.53429%2C%2055.82849%5D%2C%20%5B37.53401%2C%2055.828412%5D%5D%2C%20%22type%22%3A%20%22LineString%22%7D%2C%20%22properties%22%3A%20%7B%7D%2C%20%22type%22%3A%20%22Feature%22%7D%2C%20%7B%22geometry%22%3A%20%7B%22coordinates%22%3A%20%5B%5B37.53401%2C%2055.828412%5D%2C%20%5B37.53386%2C%2055.82837%5D%2C%20%5B37.53357%2C%2055.82825%5D%2C%20%5B37.53237%2C%2055.82813%5D%2C%20%5B37.53316%2C%2055.82785%5D%2C%20%5B37.53346%2C%2055.827736%5D%5D%2C%20%22type%22%3A%20%22LineString%22%7D%2C%20%22properties%22%3A%20%7B%7D%2C%20%22type%22%3A%20%22Feature%22%7D%2C%20%7B%22geometry%22%3A%20%7B%22coordinates%22%3A%20%5B%5B37.53346%2C%2055.827736%5D%2C%20%5B37.53379%2C%2055.82761%5D%2C%20%5B37.53354%2C%2055.82743%5D%2C%20%5B37.533364%2C%2055.827326%5D%5D%2C%20%22type%22%3A%20%22LineString%22%7D%2C%20%22properties%22%3A%20%7B%7D%2C%20%22type%22%3A%20%22Feature%22%7D%2C%20%7B%22geometry%22%3A%20%7B%22coordinates%22%3A%20%5B%5B37.533364%2C%2055.827326%5D%2C%20%5B37.533%2C%2055.82711%5D%2C%20%5B37.53264%2C%2055.82699%5D%2C%20%5B37.5324%2C%2055.82691%5D%2C%20%5B37.5325%2C%2055.82636%5D%5D%2C%20%22type%22%3A%20%22LineString%22%7D%2C%20%22properties%22%3A%20%7B%7D%2C%20%22type%22%3A%20%22Feature%22%7D%2C%20%7B%22geometry%22%3A%20%7B%22coordinates%22%3A%20%5B%5B37.5325%2C%2055.82636%5D%2C%20%5B37.5324%2C%2055.82691%5D%2C%20%5B37.53182%2C%2055.82666%5D%2C%20%5B37.53148%2C%2055.82651%5D%2C%20%5B37.5313%2C%2055.82643%5D%2C%20%5B37.53136%2C%2055.82631%5D%2C%20%5B37.53135%2C%2055.82619%5D%2C%20%5B37.53132%2C%2055.82591%5D%2C%20%5B37.53131%2C%2055.8258%5D%5D%2C%20%22type%22%3A%20%22LineString%22%7D%2C%20%22properties%22%3A%20%7B%7D%2C%20%22type%22%3A%20%22Feature%22%7D%2C%20%7B%22geometry%22%3A%20%7B%22coordinates%22%3A%20%5B%5B37.53131%2C%2055.8258%5D%2C%20%5B37.53132%2C%2055.82591%5D%2C%20%5B37.53135%2C%2055.82619%5D%2C%20%5B37.53136%2C%2055.82631%5D%2C%20%5B37.5313%2C%2055.82643%5D%2C%20%5B37.5309%2C%2055.82625%5D%2C%20%5B37.53081%2C%2055.82621%5D%2C%20%5B37.53052%2C%2055.8261%5D%2C%20%5B37.53056%2C%2055.82601%5D%2C%20%5B37.53065%2C%2055.82575%5D%2C%20%5B37.530739%2C%2055.825519%5D%5D%2C%20%22type%22%3A%20%22LineString%22%7D%2C%20%22properties%22%3A%20%7B%7D%2C%20%22type%22%3A%20%22Feature%22%7D%2C%20%7B%22geometry%22%3A%20%7B%22coordinates%22%3A%20%5B%5B37.530739%2C%2055.825519%5D%2C%20%5B37.53065%2C%2055.82575%5D%2C%20%5B37.53056%2C%2055.82601%5D%2C%20%5B37.53052%2C%2055.8261%5D%2C%20%5B37.53014%2C%2055.82597%5D%2C%20%5B37.53003%2C%2055.82596%5D%2C%20%5B37.5299%2C%2055.82599%5D%2C%20%5B37.52986%2C%2055.82585%5D%2C%20%5B37.52961%2C%2055.82575%5D%2C%20%5B37.52955%2C%2055.82553%5D%2C%20%5B37.52949%2C%2055.82541%5D%2C%20%5B37.52946%2C%2055.82535%5D%2C%20%5B37.52944%2C%2055.82531%5D%2C%20%5B37.52939%2C%2055.82522%5D%2C%20%5B37.529344%2C%2055.825137%5D%5D%2C%20%22type%22%3A%20%22LineString%22%7D%2C%20%22properties%22%3A%20%7B%7D%2C%20%22type%22%3A%20%22Feature%22%7D%2C%20%7B%22geometry%22%3A%20%7B%22coordinates%22%3A%20%5B%5B37.529344%2C%2055.825137%5D%2C%20%5B37.52934%2C%2055.82513%5D%2C%20%5B37.52929%2C%2055.82506%5D%2C%20%5B37.52918%2C%2055.82491%5D%2C%20%5B37.52884%2C%2055.8245%5D%2C%20%5B37.52853%2C%2055.8246%5D%2C%20%5B37.52795%2C%2055.82478%5D%2C%20%5B37.52806%2C%2055.82488%5D%2C%20%5B37.5279%2C%2055.82493%5D%2C%20%5B37.52784%2C%2055.825%5D%5D%2C%20%22type%22%3A%20%22LineString%22%7D%2C%20%22properties%22%3A%20%7B%7D%2C%20%22type%22%3A%20%22Feature%22%7D%2C%20%7B%22geometry%22%3A%20%7B%22coordinates%22%3A%20%5B%5B37.52784%2C%2055.825%5D%2C%20%5B37.52784%2C%2055.825%5D%2C%20%5B37.52775%2C%2055.8251%5D%2C%20%5B37.52768%2C%2055.82524%5D%2C%20%5B37.52746%2C%2055.82518%5D%2C%20%5B37.52735%2C%2055.82531%5D%2C%20%5B37.52692%2C%2055.82519%5D%2C%20%5B37.52684%2C%2055.82517%5D%2C%20%5B37.526621%2C%2055.825114%5D%5D%2C%20%22type%22%3A%20%22LineString%22%7D%2C%20%22properties%22%3A%20%7B%7D%2C%20%22type%22%3A%20%22Feature%22%7D%2C%20%7B%22geometry%22%3A%20%7B%22coordinates%22%3A%20%5B%5B37.526621%2C%2055.825114%5D%2C%20%5B37.52684%2C%2055.82517%5D%2C%20%5B37.52692%2C%2055.82519%5D%2C%20%5B37.52663%2C%2055.82556%5D%2C%20%5B37.52652%2C%2055.82553%5D%2C%20%5B37.52632%2C%2055.82548%5D%2C%20%5B37.52612%2C%2055.82543%5D%2C%20%5B37.525608%2C%2055.825296%5D%5D%2C%20%22type%22%3A%20%22LineString%22%7D%2C%20%22properties%22%3A%20%7B%7D%2C%20%22type%22%3A%20%22Feature%22%7D%2C%20%7B%22geometry%22%3A%20%7B%22coordinates%22%3A%20%5B%5B37.525608%2C%2055.825296%5D%2C%20%5B37.52463%2C%2055.82504%5D%2C%20%5B37.52473%2C%2055.82521%5D%2C%20%5B37.52449%2C%2055.8255%5D%2C%20%5B37.524626%2C%2055.825539%5D%5D%2C%20%22type%22%3A%20%22LineString%22%7D%2C%20%22properties%22%3A%20%7B%7D%2C%20%22type%22%3A%20%22Feature%22%7D%2C%20%7B%22geometry%22%3A%20%7B%22coordinates%22%3A%20%5B%5B37.524626%2C%2055.825539%5D%2C%20%5B37.52449%2C%2055.8255%5D%2C%20%5B37.52424%2C%2055.82543%5D%2C%20%5B37.52384%2C%2055.82578%5D%2C%20%5B37.52375%2C%2055.82589%5D%5D%2C%20%22type%22%3A%20%22LineString%22%7D%2C%20%22properties%22%3A%20%7B%7D%2C%20%22type%22%3A%20%22Feature%22%7D%2C%20%7B%22geometry%22%3A%20%7B%22coordinates%22%3A%20%5B%5B37.52375%2C%2055.82589%5D%2C%20%5B37.52384%2C%2055.82578%5D%2C%20%5B37.52284%2C%2055.82551%5D%2C%20%5B37.522743%2C%2055.825465%5D%5D%2C%20%22type%22%3A%20%22LineString%22%7D%2C%20%22properties%22%3A%20%7B%7D%2C%20%22type%22%3A%20%22Feature%22%7D%2C%20%7B%22geometry%22%3A%20%7B%22coordinates%22%3A%20%5B%5B37.522743%2C%2055.825465%5D%2C%20%5B37.52254%2C%2055.82537%5D%2C%20%5B37.52221%2C%2055.82529%5D%2C%20%5B37.52118%2C%2055.82502%5D%2C%20%5B37.521116%2C%2055.825135%5D%5D%2C%20%22type%22%3A%20%22LineString%22%7D%2C%20%22properties%22%3A%20%7B%7D%2C%20%22type%22%3A%20%22Feature%22%7D%2C%20%7B%22geometry%22%3A%20%7B%22coordinates%22%3A%20%5B%5B37.521116%2C%2055.825135%5D%2C%20%5B37.52118%2C%2055.82502%5D%2C%20%5B37.52103%2C%2055.82498%5D%2C%20%5B37.52073%2C%2055.82491%5D%2C%20%5B37.52002%2C%2055.82473%5D%2C%20%5B37.519806%2C%2055.824985%5D%5D%2C%20%22type%22%3A%20%22LineString%22%7D%2C%20%22properties%22%3A%20%7B%7D%2C%20%22type%22%3A%20%22Feature%22%7D%2C%20%7B%22geometry%22%3A%20%7B%22coordinates%22%3A%20%5B%5B37.519806%2C%2055.824985%5D%2C%20%5B37.51965%2C%2055.82517%5D%2C%20%5B37.51955%2C%2055.82508%5D%2C%20%5B37.51947%2C%2055.82494%5D%2C%20%5B37.5194%2C%2055.82487%5D%2C%20%5B37.51916%2C%2055.8248%5D%2C%20%5B37.51883%2C%2055.82471%5D%2C%20%5B37.51846%2C%2055.82513%5D%5D%2C%20%22type%22%3A%20%22LineString%22%7D%2C%20%22properties%22%3A%20%7B%7D%2C%20%22type%22%3A%20%22Feature%22%7D%2C%20%7B%22geometry%22%3A%20%7B%22coordinates%22%3A%20%5B%5B37.51846%2C%2055.82513%5D%2C%20%5B37.51883%2C%2055.82471%5D%2C%20%5B37.51896%2C%2055.82455%5D%2C%20%5B37.51902%2C%2055.82448%5D%2C%20%5B37.51886%2C%2055.82444%5D%2C%20%5B37.51847%2C%2055.8244%5D%2C%20%5B37.5181%2C%2055.82481%5D%2C%20%5B37.51802%2C%2055.82485%5D%2C%20%5B37.51787%2C%2055.8249%5D%2C%20%5B37.51782%2C%2055.82495%5D%2C%20%5B37.51783%2C%2055.82502%5D%2C%20%5B37.51785%2C%2055.82506%5D%2C%20%5B37.51785%2C%2055.8251%5D%2C%20%5B37.517705%2C%2055.825273%5D%5D%2C%20%22type%22%3A%20%22LineString%22%7D%2C%20%22properties%22%3A%20%7B%7D%2C%20%22type%22%3A%20%22Feature%22%7D%2C%20%7B%22geometry%22%3A%20%7B%22coordinates%22%3A%20%5B%5B37.517705%2C%2055.825273%5D%2C%20%5B37.51785%2C%2055.8251%5D%2C%20%5B37.51785%2C%2055.82506%5D%2C%20%5B37.51783%2C%2055.82502%5D%2C%20%5B37.51782%2C%2055.82495%5D%2C%20%5B37.51787%2C%2055.8249%5D%2C%20%5B37.51802%2C%2055.82485%5D%2C%20%5B37.5181%2C%2055.82481%5D%2C%20%5B37.51847%2C%2055.8244%5D%2C%20%5B37.51886%2C%2055.82444%5D%2C%20%5B37.51902%2C%2055.82448%5D%2C%20%5B37.51896%2C%2055.82455%5D%2C%20%5B37.51916%2C%2055.8248%5D%2C%20%5B37.51883%2C%2055.82521%5D%2C%20%5B37.51866%2C%2055.82534%5D%2C%20%5B37.51847%2C%2055.82548%5D%2C%20%5B37.51836%2C%2055.82562%5D%2C%20%5B37.51824%2C%2055.82586%5D%2C%20%5B37.5179%2C%2055.82629%5D%2C%20%5B37.51764%2C%2055.82623%5D%2C%20%5B37.51735%2C%2055.82616%5D%2C%20%5B37.51785%2C%2055.82556%5D%2C%20%5B37.51781%2C%2055.82552%5D%2C%20%5B37.51724%2C%2055.82538%5D%5D%2C%20%22type%22%3A%20%22LineString%22%7D%2C%20%22properties%22%3A%20%7B%7D%2C%20%22type%22%3A%20%22Feature%22%7D%2C%20%7B%22geometry%22%3A%20%7B%22coordinates%22%3A%20%5B%5B37.51724%2C%2055.82538%5D%2C%20%5B37.51781%2C%2055.82552%5D%2C%20%5B37.51785%2C%2055.82556%5D%2C%20%5B37.51735%2C%2055.82616%5D%2C%20%5B37.51723%2C%2055.8263%5D%2C%20%5B37.51694%2C%2055.82623%5D%2C%20%5B37.51624%2C%2055.82607%5D%2C%20%5B37.51579%2C%2055.82596%5D%2C%20%5B37.51559%2C%2055.82591%5D%2C%20%5B37.515451%2C%2055.826078%5D%5D%2C%20%22type%22%3A%20%22LineString%22%7D%2C%20%22properties%22%3A%20%7B%7D%2C%20%22type%22%3A%20%22Feature%22%7D%2C%20%7B%22geometry%22%3A%20%7B%22coordinates%22%3A%20%5B%5B37.515451%2C%2055.826078%5D%2C%20%5B37.5154%2C%2055.82614%5D%2C%20%5B37.51526%2C%2055.82631%5D%2C%20%5B37.51514%2C%2055.82646%5D%2C%20%5B37.51472%2C%2055.82637%5D%5D%2C%20%22type%22%3A%20%22LineString%22%7D%2C%20%22properties%22%3A%20%7B%7D%2C%20%22type%22%3A%20%22Feature%22%7D%2C%20%7B%22geometry%22%3A%20%7B%22coordinates%22%3A%20%5B%5B37.51472%2C%2055.82637%5D%2C%20%5B37.51514%2C%2055.82646%5D%2C%20%5B37.51498%2C%2055.82665%5D%2C%20%5B37.51473%2C%2055.82697%5D%2C%20%5B37.51428%2C%2055.82717%5D%5D%2C%20%22type%22%3A%20%22LineString%22%7D%2C%20%22properties%22%3A%20%7B%7D%2C%20%22type%22%3A%20%22Feature%22%7D%2C%20%7B%22geometry%22%3A%20%7B%22coordinates%22%3A%20%5B%5B37.51428%2C%2055.82717%5D%2C%20%5B37.51392%2C%2055.82733%5D%2C%20%5B37.51382%2C%2055.82747%5D%2C%20%5B37.51365%2C%2055.82747%5D%2C%20%5B37.513562%2C%2055.827558%5D%5D%2C%20%22type%22%3A%20%22LineString%22%7D%2C%20%22properties%22%3A%20%7B%7D%2C%20%22type%22%3A%20%22Feature%22%7D%2C%20%7B%22geometry%22%3A%20%7B%22coordinates%22%3A%20%5B%5B37.513562%2C%2055.827558%5D%2C%20%5B37.51345%2C%2055.82767%5D%2C%20%5B37.51322%2C%2055.8279%5D%2C%20%5B37.51353%2C%2055.82802%5D%5D%2C%20%22type%22%3A%20%22LineString%22%7D%2C%20%22properties%22%3A%20%7B%7D%2C%20%22type%22%3A%20%22Feature%22%7D%2C%20%7B%22geometry%22%3A%20%7B%22coordinates%22%3A%20%5B%5B37.51353%2C%2055.82802%5D%2C%20%5B37.51322%2C%2055.8279%5D%2C%20%5B37.51345%2C%2055.82767%5D%2C%20%5B37.51365%2C%2055.82747%5D%2C%20%5B37.51382%2C%2055.82747%5D%2C%20%5B37.51392%2C%2055.82733%5D%2C%20%5B37.51418%2C%2055.8274%5D%2C%20%5B37.51436%2C%2055.82745%5D%2C%20%5B37.51457%2C%2055.82753%5D%2C%20%5B37.51469%2C%2055.82758%5D%2C%20%5B37.51479%2C%2055.82764%5D%2C%20%5B37.51486%2C%2055.8277%5D%2C%20%5B37.5149%2C%2055.82776%5D%2C%20%5B37.51486%2C%2055.82782%5D%2C%20%5B37.5148%2C%2055.82788%5D%2C%20%5B37.51471%2C%2055.82795%5D%2C%20%5B37.5146%2C%2055.82802%5D%2C%20%5B37.5144%2C%2055.82814%5D%2C%20%5B37.51401%2C%2055.82836%5D%2C%20%5B37.51344%2C%2055.82868%5D%2C%20%5B37.5136%2C%2055.82878%5D%5D%2C%20%22type%22%3A%20%22LineString%22%7D%2C%20%22properties%22%3A%20%7B%7D%2C%20%22type%22%3A%20%22Feature%22%7D%2C%20%7B%22geometry%22%3A%20%7B%22coordinates%22%3A%20%5B%5B37.5136%2C%2055.82878%5D%2C%20%5B37.5136%2C%2055.82878%5D%2C%20%5B37.51397%2C%2055.82898%5D%2C%20%5B37.51422%2C%2055.82912%5D%2C%20%5B37.51392%2C%2055.82929%5D%2C%20%5B37.51377%2C%2055.82926%5D%5D%2C%20%22type%22%3A%20%22LineString%22%7D%2C%20%22properties%22%3A%20%7B%7D%2C%20%22type%22%3A%20%22Feature%22%7D%2C%20%7B%22geometry%22%3A%20%7B%22coordinates%22%3A%20%5B%5B37.51377%2C%2055.82926%5D%2C%20%5B37.51392%2C%2055.82929%5D%2C%20%5B37.51422%2C%2055.82912%5D%2C%20%5B37.51397%2C%2055.82898%5D%2C%20%5B37.5136%2C%2055.82878%5D%2C%20%5B37.51344%2C%2055.82868%5D%2C%20%5B37.51276%2C%2055.82908%5D%2C%20%5B37.51259%2C%2055.82918%5D%2C%20%5B37.51225%2C%2055.82938%5D%2C%20%5B37.51149%2C%2055.82982%5D%2C%20%5B37.51138%2C%2055.82988%5D%2C%20%5B37.51128%2C%2055.82994%5D%2C%20%5B37.51114%2C%2055.83004%5D%2C%20%5B37.51108%2C%2055.83011%5D%2C%20%5B37.51105%2C%2055.83017%5D%2C%20%5B37.51103%2C%2055.83021%5D%2C%20%5B37.51129%2C%2055.83029%5D%2C%20%5B37.51159%2C%2055.83039%5D%2C%20%5B37.51181%2C%2055.83051%5D%2C%20%5B37.51238%2C%2055.83085%5D%2C%20%5B37.51247%2C%2055.83085%5D%2C%20%5B37.51352%2C%2055.83022%5D%2C%20%5B37.51386%2C%2055.83002%5D%2C%20%5B37.51389%2C%2055.82996%5D%2C%20%5B37.513848%2C%2055.829883%5D%5D%2C%20%22type%22%3A%20%22LineString%22%7D%2C%20%22properties%22%3A%20%7B%7D%2C%20%22type%22%3A%20%22Feature%22%7D%2C%20%7B%22geometry%22%3A%20%7B%22coordinates%22%3A%20%5B%5B37.513848%2C%2055.829883%5D%2C%20%5B37.51389%2C%2055.82996%5D%2C%20%5B37.51386%2C%2055.83002%5D%2C%20%5B37.51352%2C%2055.83022%5D%2C%20%5B37.51247%2C%2055.83085%5D%2C%20%5B37.51238%2C%2055.83085%5D%2C%20%5B37.51181%2C%2055.83051%5D%2C%20%5B37.51159%2C%2055.83039%5D%2C%20%5B37.51129%2C%2055.83029%5D%2C%20%5B37.51103%2C%2055.83021%5D%2C%20%5B37.51105%2C%2055.83017%5D%2C%20%5B37.51108%2C%2055.83011%5D%2C%20%5B37.51114%2C%2055.83004%5D%2C%20%5B37.51128%2C%2055.82994%5D%2C%20%5B37.51138%2C%2055.82988%5D%2C%20%5B37.51149%2C%2055.82982%5D%2C%20%5B37.51225%2C%2055.82938%5D%2C%20%5B37.51259%2C%2055.82918%5D%2C%20%5B37.51276%2C%2055.82908%5D%2C%20%5B37.51344%2C%2055.82868%5D%2C%20%5B37.51401%2C%2055.82836%5D%2C%20%5B37.5144%2C%2055.82814%5D%2C%20%5B37.5146%2C%2055.82802%5D%2C%20%5B37.51471%2C%2055.82795%5D%2C%20%5B37.5148%2C%2055.82788%5D%2C%20%5B37.51486%2C%2055.82782%5D%2C%20%5B37.5149%2C%2055.82776%5D%2C%20%5B37.51526%2C%2055.82772%5D%2C%20%5B37.51616%2C%2055.82798%5D%2C%20%5B37.51676%2C%2055.82813%5D%2C%20%5B37.51698%2C%2055.82819%5D%2C%20%5B37.51718%2C%2055.82822%5D%2C%20%5B37.51736%2C%2055.82819%5D%2C%20%5B37.51764%2C%2055.82817%5D%2C%20%5B37.51774%2C%2055.82837%5D%2C%20%5B37.51785%2C%2055.82859%5D%2C%20%5B37.51788%2C%2055.82865%5D%2C%20%5B37.51797%2C%2055.82884%5D%2C%20%5B37.51816%2C%2055.82923%5D%2C%20%5B37.51828%2C%2055.82947%5D%2C%20%5B37.51835%2C%2055.82961%5D%2C%20%5B37.51844%2C%2055.82978%5D%2C%20%5B37.5186%2C%2055.83011%5D%2C%20%5B37.51877%2C%2055.83045%5D%2C%20%5B37.51889%2C%2055.83067%5D%2C%20%5B37.51893%2C%2055.83075%5D%2C%20%5B37.51859%2C%2055.83082%5D%2C%20%5B37.51762%2C%2055.83098%5D%2C%20%5B37.51743%2C%2055.83104%5D%2C%20%5B37.51716%2C%2055.83106%5D%2C%20%5B37.51708%2C%2055.83107%5D%2C%20%5B37.51701%2C%2055.83106%5D%2C%20%5B37.51698%2C%2055.83103%5D%2C%20%5B37.51697%2C%2055.83097%5D%2C%20%5B37.51664%2C%2055.83036%5D%2C%20%5B37.51644%2C%2055.83033%5D%2C%20%5B37.51621%2C%2055.83015%5D%2C%20%5B37.5149%2C%2055.8304%5D%5D%2C%20%22type%22%3A%20%22LineString%22%7D%2C%20%22properties%22%3A%20%7B%7D%2C%20%22type%22%3A%20%22Feature%22%7D%2C%20%7B%22geometry%22%3A%20%7B%22coordinates%22%3A%20%5B%5B37.5149%2C%2055.8304%5D%2C%20%5B37.5149%2C%2055.8304%5D%2C%20%5B37.515149%2C%2055.830869%5D%5D%2C%20%22type%22%3A%20%22LineString%22%7D%2C%20%22properties%22%3A%20%7B%7D%2C%20%22type%22%3A%20%22Feature%22%7D%2C%20%7B%22geometry%22%3A%20%7B%22coordinates%22%3A%20%5B%5B37.515149%2C%2055.830869%5D%2C%20%5B37.51516%2C%2055.83089%5D%2C%20%5B37.51523%2C%2055.83092%5D%2C%20%5B37.5159%2C%2055.83081%5D%2C%20%5B37.51596%2C%2055.83083%5D%2C%20%5B37.51623%2C%2055.8311%5D%2C%20%5B37.516331%2C%2055.831272%5D%5D%2C%20%22type%22%3A%20%22LineString%22%7D%2C%20%22properties%22%3A%20%7B%7D%2C%20%22type%22%3A%20%22Feature%22%7D%2C%20%7B%22geometry%22%3A%20%7B%22coordinates%22%3A%20%5B%5B37.516331%2C%2055.831272%5D%2C%20%5B37.51659%2C%2055.83171%5D%2C%20%5B37.51676%2C%2055.83166%5D%2C%20%5B37.517019%2C%2055.831614%5D%5D%2C%20%22type%22%3A%20%22LineString%22%7D%2C%20%22properties%22%3A%20%7B%7D%2C%20%22type%22%3A%20%22Feature%22%7D%2C%20%7B%22geometry%22%3A%20%7B%22coordinates%22%3A%20%5B%5B37.517019%2C%2055.831614%5D%2C%20%5B37.51704%2C%2055.83161%5D%2C%20%5B37.51727%2C%2055.83161%5D%2C%20%5B37.51746%2C%2055.83161%5D%2C%20%5B37.51768%2C%2055.83159%5D%2C%20%5B37.51773%2C%2055.83167%5D%2C%20%5B37.51775%2C%2055.8317%5D%2C%20%5B37.51779%2C%2055.83171%5D%2C%20%5B37.518016%2C%2055.831679%5D%5D%2C%20%22type%22%3A%20%22LineString%22%7D%2C%20%22properties%22%3A%20%7B%7D%2C%20%22type%22%3A%20%22Feature%22%7D%2C%20%7B%22geometry%22%3A%20%7B%22coordinates%22%3A%20%5B%5B37.518016%2C%2055.831679%5D%2C%20%5B37.51779%2C%2055.83171%5D%2C%20%5B37.51775%2C%2055.8317%5D%2C%20%5B37.51773%2C%2055.83167%5D%2C%20%5B37.51768%2C%2055.83159%5D%2C%20%5B37.51782%2C%2055.83157%5D%2C%20%5B37.51815%2C%2055.83152%5D%2C%20%5B37.51889%2C%2055.83142%5D%2C%20%5B37.51924%2C%2055.83136%5D%2C%20%5B37.5193%2C%2055.83149%5D%2C%20%5B37.51938%2C%2055.83166%5D%2C%20%5B37.51951%2C%2055.83193%5D%2C%20%5B37.51969%2C%2055.83229%5D%2C%20%5B37.51972%2C%2055.83236%5D%2C%20%5B37.51975%2C%2055.83243%5D%2C%20%5B37.51978%2C%2055.83249%5D%2C%20%5B37.51988%2C%2055.83272%5D%2C%20%5B37.51996%2C%2055.83291%5D%2C%20%5B37.51981%2C%2055.83295%5D%2C%20%5B37.51927%2C%2055.8331%5D%2C%20%5B37.51899%2C%2055.83317%5D%2C%20%5B37.51864%2C%2055.83327%5D%2C%20%5B37.51841%2C%2055.83334%5D%2C%20%5B37.51825%2C%2055.83338%5D%2C%20%5B37.51812%2C%2055.8334%5D%2C%20%5B37.51802%2C%2055.8334%5D%2C%20%5B37.51793%2C%2055.83338%5D%2C%20%5B37.51784%2C%2055.83335%5D%2C%20%5B37.51723%2C%2055.83315%5D%2C%20%5B37.51733%2C%2055.83307%5D%2C%20%5B37.51774%2C%2055.83272%5D%2C%20%5B37.51791%2C%2055.83286%5D%2C%20%5B37.517941%2C%2055.832917%5D%5D%2C%20%22type%22%3A%20%22LineString%22%7D%2C%20%22properties%22%3A%20%7B%7D%2C%20%22type%22%3A%20%22Feature%22%7D%2C%20%7B%22geometry%22%3A%20%7B%22coordinates%22%3A%20%5B%5B37.517941%2C%2055.832917%5D%2C%20%5B37.51791%2C%2055.83286%5D%2C%20%5B37.51774%2C%2055.83272%5D%2C%20%5B37.51733%2C%2055.83307%5D%2C%20%5B37.51723%2C%2055.83315%5D%2C%20%5B37.51784%2C%2055.83335%5D%2C%20%5B37.51793%2C%2055.83338%5D%2C%20%5B37.51802%2C%2055.8334%5D%2C%20%5B37.5179%2C%2055.83364%5D%2C%20%5B37.51806%2C%2055.83365%5D%2C%20%5B37.51813%2C%2055.83364%5D%2C%20%5B37.518249%2C%2055.833605%5D%5D%2C%20%22type%22%3A%20%22LineString%22%7D%2C%20%22properties%22%3A%20%7B%7D%2C%20%22type%22%3A%20%22Feature%22%7D%2C%20%7B%22geometry%22%3A%20%7B%22coordinates%22%3A%20%5B%5B37.518249%2C%2055.833605%5D%2C%20%5B37.51813%2C%2055.83364%5D%2C%20%5B37.51806%2C%2055.83365%5D%2C%20%5B37.5179%2C%2055.83364%5D%2C%20%5B37.51788%2C%2055.83373%5D%2C%20%5B37.51786%2C%2055.83385%5D%2C%20%5B37.518134%2C%2055.834375%5D%5D%2C%20%22type%22%3A%20%22LineString%22%7D%2C%20%22properties%22%3A%20%7B%7D%2C%20%22type%22%3A%20%22Feature%22%7D%2C%20%7B%22geometry%22%3A%20%7B%22coordinates%22%3A%20%5B%5B37.518134%2C%2055.834375%5D%2C%20%5B37.51786%2C%2055.83385%5D%2C%20%5B37.51788%2C%2055.83373%5D%2C%20%5B37.5179%2C%2055.83364%5D%2C%20%5B37.51802%2C%2055.8334%5D%2C%20%5B37.51812%2C%2055.8334%5D%2C%20%5B37.51825%2C%2055.83338%5D%2C%20%5B37.51841%2C%2055.83334%5D%2C%20%5B37.51864%2C%2055.83327%5D%2C%20%5B37.51899%2C%2055.83317%5D%2C%20%5B37.51927%2C%2055.8331%5D%2C%20%5B37.51981%2C%2055.83295%5D%2C%20%5B37.51996%2C%2055.83291%5D%2C%20%5B37.52013%2C%2055.8332%5D%2C%20%5B37.52021%2C%2055.83334%5D%2C%20%5B37.52024%2C%2055.83341%5D%2C%20%5B37.52037%2C%2055.83367%5D%2C%20%5B37.52049%2C%2055.8339%5D%2C%20%5B37.52056%2C%2055.83405%5D%2C%20%5B37.52069%2C%2055.83433%5D%2C%20%5B37.52077%2C%2055.83449%5D%2C%20%5B37.52043%2C%2055.83466%5D%2C%20%5B37.52%2C%2055.83485%5D%2C%20%5B37.51952%2C%2055.83507%5D%2C%20%5B37.51928%2C%2055.83518%5D%2C%20%5B37.51903%2C%2055.83529%5D%2C%20%5B37.51889%2C%2055.83519%5D%2C%20%5B37.518781%2C%2055.835102%5D%5D%2C%20%22type%22%3A%20%22LineString%22%7D%2C%20%22properties%22%3A%20%7B%7D%2C%20%22type%22%3A%20%22Feature%22%7D%2C%20%7B%22geometry%22%3A%20%7B%22coordinates%22%3A%20%5B%5B37.518781%2C%2055.835102%5D%2C%20%5B37.51889%2C%2055.83519%5D%2C%20%5B37.51903%2C%2055.83529%5D%2C%20%5B37.51872%2C%2055.83544%5D%2C%20%5B37.51833%2C%2055.83563%5D%2C%20%5B37.51841%2C%2055.83572%5D%2C%20%5B37.518474%2C%2055.835815%5D%5D%2C%20%22type%22%3A%20%22LineString%22%7D%2C%20%22properties%22%3A%20%7B%7D%2C%20%22type%22%3A%20%22Feature%22%7D%2C%20%7B%22geometry%22%3A%20%7B%22coordinates%22%3A%20%5B%5B37.518474%2C%2055.835815%5D%2C%20%5B37.51841%2C%2055.83572%5D%2C%20%5B37.51833%2C%2055.83563%5D%2C%20%5B37.51872%2C%2055.83544%5D%2C%20%5B37.51882%2C%2055.8355%5D%2C%20%5B37.51911%2C%2055.83571%5D%2C%20%5B37.51923%2C%2055.83587%5D%2C%20%5B37.51937%2C%2055.83606%5D%2C%20%5B37.5195%2C%2055.83625%5D%2C%20%5B37.51887%2C%2055.8364%5D%2C%20%5B37.51857%2C%2055.8365%5D%2C%20%5B37.51872%2C%2055.83661%5D%5D%2C%20%22type%22%3A%20%22LineString%22%7D%2C%20%22properties%22%3A%20%7B%7D%2C%20%22type%22%3A%20%22Feature%22%7D%2C%20%7B%22geometry%22%3A%20%7B%22coordinates%22%3A%20%5B%5B37.51872%2C%2055.83661%5D%2C%20%5B37.51857%2C%2055.8365%5D%2C%20%5B37.51887%2C%2055.8364%5D%2C%20%5B37.5195%2C%2055.83625%5D%2C%20%5B37.51937%2C%2055.83606%5D%2C%20%5B37.51971%2C%2055.83602%5D%2C%20%5B37.51981%2C%2055.83616%5D%2C%20%5B37.52013%2C%2055.83659%5D%2C%20%5B37.52025%2C%2055.83681%5D%2C%20%5B37.52%2C%2055.83688%5D%2C%20%5B37.51972%2C%2055.83696%5D%2C%20%5B37.51945%2C%2055.83703%5D%2C%20%5B37.51894%2C%2055.83717%5D%5D%2C%20%22type%22%3A%20%22LineString%22%7D%2C%20%22properties%22%3A%20%7B%7D%2C%20%22type%22%3A%20%22Feature%22%7D%2C%20%7B%22geometry%22%3A%20%7B%22coordinates%22%3A%20%5B%5B37.51894%2C%2055.83717%5D%2C%20%5B37.51894%2C%2055.83717%5D%2C%20%5B37.51867%2C%2055.83697%5D%2C%20%5B37.51858%2C%2055.83706%5D%2C%20%5B37.51845%2C%2055.8372%5D%2C%20%5B37.51822%2C%2055.83733%5D%2C%20%5B37.51837%2C%2055.83743%5D%2C%20%5B37.51802%2C%2055.83759%5D%2C%20%5B37.51849%2C%2055.8379%5D%2C%20%5B37.518857%2C%2055.838143%5D%5D%2C%20%22type%22%3A%20%22LineString%22%7D%2C%20%22properties%22%3A%20%7B%7D%2C%20%22type%22%3A%20%22Feature%22%7D%2C%20%7B%22geometry%22%3A%20%7B%22coordinates%22%3A%20%5B%5B37.518857%2C%2055.838143%5D%2C%20%5B37.51923%2C%2055.83839%5D%2C%20%5B37.519392%2C%2055.838502%5D%5D%2C%20%22type%22%3A%20%22LineString%22%7D%2C%20%22properties%22%3A%20%7B%7D%2C%20%22type%22%3A%20%22Feature%22%7D%2C%20%7B%22geometry%22%3A%20%7B%22coordinates%22%3A%20%5B%5B37.519392%2C%2055.838502%5D%2C%20%5B37.52014%2C%2055.83902%5D%2C%20%5B37.52095%2C%2055.8396%5D%2C%20%5B37.5215%2C%2055.83989%5D%2C%20%5B37.52216%2C%2055.84%5D%2C%20%5B37.52135%2C%2055.84051%5D%2C%20%5B37.52046%2C%2055.84101%5D%2C%20%5B37.5197%2C%2055.84106%5D%2C%20%5B37.51971%2C%2055.84097%5D%2C%20%5B37.51973%2C%2055.84078%5D%2C%20%5B37.51908%2C%2055.84076%5D%2C%20%5B37.51883%2C%2055.84073%5D%2C%20%5B37.51871%2C%2055.84069%5D%2C%20%5B37.51871%2C%2055.84065%5D%2C%20%5B37.51874%2C%2055.84057%5D%2C%20%5B37.51887%2C%2055.84044%5D%2C%20%5B37.51893%2C%2055.84034%5D%2C%20%5B37.5189%2C%2055.84021%5D%2C%20%5B37.51881%2C%2055.84014%5D%2C%20%5B37.51861%2C%2055.84009%5D%2C%20%5B37.5188%2C%2055.83972%5D%5D%2C%20%22type%22%3A%20%22LineString%22%7D%2C%20%22properties%22%3A%20%7B%7D%2C%20%22type%22%3A%20%22Feature%22%7D%2C%20%7B%22geometry%22%3A%20%7B%22coordinates%22%3A%20%5B%5B37.5188%2C%2055.83972%5D%2C%20%5B37.51861%2C%2055.84009%5D%2C%20%5B37.51881%2C%2055.84014%5D%2C%20%5B37.5189%2C%2055.84021%5D%2C%20%5B37.518921%2C%2055.840301%5D%5D%2C%20%22type%22%3A%20%22LineString%22%7D%2C%20%22properties%22%3A%20%7B%7D%2C%20%22type%22%3A%20%22Feature%22%7D%2C%20%7B%22geometry%22%3A%20%7B%22coordinates%22%3A%20%5B%5B37.518921%2C%2055.840301%5D%2C%20%5B37.51893%2C%2055.84034%5D%2C%20%5B37.51887%2C%2055.84044%5D%2C%20%5B37.51874%2C%2055.84057%5D%2C%20%5B37.51871%2C%2055.84065%5D%2C%20%5B37.51871%2C%2055.84069%5D%2C%20%5B37.51873%2C%2055.84096%5D%2C%20%5B37.51875%2C%2055.84099%5D%2C%20%5B37.51884%2C%2055.84104%5D%5D%2C%20%22type%22%3A%20%22LineString%22%7D%2C%20%22properties%22%3A%20%7B%7D%2C%20%22type%22%3A%20%22Feature%22%7D%2C%20%7B%22geometry%22%3A%20%7B%22coordinates%22%3A%20%5B%5B37.51884%2C%2055.84104%5D%2C%20%5B37.51884%2C%2055.84104%5D%2C%20%5B37.51878%2C%2055.84114%5D%2C%20%5B37.51869%2C%2055.84127%5D%2C%20%5B37.51899%2C%2055.84133%5D%2C%20%5B37.51908%2C%2055.84134%5D%2C%20%5B37.51915%2C%2055.84135%5D%2C%20%5B37.51944%2C%2055.84136%5D%2C%20%5B37.51938%2C%2055.84161%5D%2C%20%5B37.518951%2C%2055.841711%5D%5D%2C%20%22type%22%3A%20%22LineString%22%7D%2C%20%22properties%22%3A%20%7B%7D%2C%20%22type%22%3A%20%22Feature%22%7D%2C%20%7B%22geometry%22%3A%20%7B%22coordinates%22%3A%20%5B%5B37.518951%2C%2055.841711%5D%2C%20%5B37.51828%2C%2055.84187%5D%2C%20%5B37.518584%2C%2055.842257%5D%5D%2C%20%22type%22%3A%20%22LineString%22%7D%2C%20%22properties%22%3A%20%7B%7D%2C%20%22type%22%3A%20%22Feature%22%7D%2C%20%7B%22geometry%22%3A%20%7B%22coordinates%22%3A%20%5B%5B37.518584%2C%2055.842257%5D%2C%20%5B37.51898%2C%2055.84276%5D%2C%20%5B37.519209%2C%2055.842709%5D%5D%2C%20%22type%22%3A%20%22LineString%22%7D%2C%20%22properties%22%3A%20%7B%7D%2C%20%22type%22%3A%20%22Feature%22%7D%2C%20%7B%22geometry%22%3A%20%7B%22coordinates%22%3A%20%5B%5B37.519209%2C%2055.842709%5D%2C%20%5B37.51898%2C%2055.84276%5D%2C%20%5B37.51926%2C%2055.84311%5D%2C%20%5B37.519456%2C%2055.843356%5D%5D%2C%20%22type%22%3A%20%22LineString%22%7D%2C%20%22properties%22%3A%20%7B%7D%2C%20%22type%22%3A%20%22Feature%22%7D%2C%20%7B%22geometry%22%3A%20%7B%22coordinates%22%3A%20%5B%5B37.519456%2C%2055.843356%5D%2C%20%5B37.51957%2C%2055.8435%5D%2C%20%5B37.51985%2C%2055.84386%5D%2C%20%5B37.520097%2C%2055.843798%5D%5D%2C%20%22type%22%3A%20%22LineString%22%7D%2C%20%22properties%22%3A%20%7B%7D%2C%20%22type%22%3A%20%22Feature%22%7D%2C%20%7B%22geometry%22%3A%20%7B%22coordinates%22%3A%20%5B%5B37.520097%2C%2055.843798%5D%2C%20%5B37.51985%2C%2055.84386%5D%2C%20%5B37.51995%2C%2055.844%5D%2C%20%5B37.52018%2C%2055.84394%5D%2C%20%5B37.52019%2C%2055.84407%5D%2C%20%5B37.52022%2C%2055.8443%5D%2C%20%5B37.520584%2C%2055.844321%5D%5D%2C%20%22type%22%3A%20%22LineString%22%7D%2C%20%22properties%22%3A%20%7B%7D%2C%20%22type%22%3A%20%22Feature%22%7D%2C%20%7B%22geometry%22%3A%20%7B%22coordinates%22%3A%20%5B%5B37.520584%2C%2055.844321%5D%2C%20%5B37.5211%2C%2055.84435%5D%2C%20%5B37.52106%2C%2055.84468%5D%2C%20%5B37.521499%2C%2055.8447%5D%5D%2C%20%22type%22%3A%20%22LineString%22%7D%2C%20%22properties%22%3A%20%7B%7D%2C%20%22type%22%3A%20%22Feature%22%7D%2C%20%7B%22geometry%22%3A%20%7B%22coordinates%22%3A%20%5B%5B37.521499%2C%2055.8447%5D%2C%20%5B37.52171%2C%2055.84471%5D%2C%20%5B37.52166%2C%2055.84504%5D%2C%20%5B37.52188%2C%2055.84504%5D%2C%20%5B37.52217%2C%2055.84504%5D%2C%20%5B37.522185%2C%2055.844873%5D%5D%2C%20%22type%22%3A%20%22LineString%22%7D%2C%20%22properties%22%3A%20%7B%7D%2C%20%22type%22%3A%20%22Feature%22%7D%2C%20%7B%22geometry%22%3A%20%7B%22coordinates%22%3A%20%5B%5B37.522185%2C%2055.844873%5D%2C%20%5B37.52217%2C%2055.84504%5D%2C%20%5B37.52264%2C%2055.84505%5D%2C%20%5B37.52315%2C%2055.84506%5D%2C%20%5B37.52401%2C%2055.84508%5D%5D%2C%20%22type%22%3A%20%22LineString%22%7D%2C%20%22properties%22%3A%20%7B%7D%2C%20%22type%22%3A%20%22Feature%22%7D%2C%20%7B%22geometry%22%3A%20%7B%22coordinates%22%3A%20%5B%5B37.52401%2C%2055.84508%5D%2C%20%5B37.52401%2C%2055.84508%5D%2C%20%5B37.52464%2C%2055.8451%5D%2C%20%5B37.52518%2C%2055.84511%5D%2C%20%5B37.52532%2C%2055.84511%5D%2C%20%5B37.52534%2C%2055.84496%5D%5D%2C%20%22type%22%3A%20%22LineString%22%7D%2C%20%22properties%22%3A%20%7B%7D%2C%20%22type%22%3A%20%22Feature%22%7D%2C%20%7B%22geometry%22%3A%20%7B%22coordinates%22%3A%20%5B%5B37.52534%2C%2055.84496%5D%2C%20%5B37.52532%2C%2055.84511%5D%2C%20%5B37.52579%2C%2055.84512%5D%2C%20%5B37.52707%2C%2055.84516%5D%2C%20%5B37.52709%2C%2055.84506%5D%2C%20%5B37.52709%2C%2055.84503%5D%2C%20%5B37.52712%2C%2055.84487%5D%2C%20%5B37.52606%2C%2055.84481%5D%5D%2C%20%22type%22%3A%20%22LineString%22%7D%2C%20%22properties%22%3A%20%7B%7D%2C%20%22type%22%3A%20%22Feature%22%7D%2C%20%7B%22geometry%22%3A%20%7B%22coordinates%22%3A%20%5B%5B37.52606%2C%2055.84481%5D%2C%20%5B37.52712%2C%2055.84487%5D%2C%20%5B37.52723%2C%2055.84464%5D%2C%20%5B37.52726%2C%2055.84457%5D%2C%20%5B37.52727%2C%2055.84444%5D%2C%20%5B37.52717%2C%2055.84437%5D%2C%20%5B37.52708%2C%2055.84431%5D%2C%20%5B37.52705%2C%2055.84415%5D%5D%2C%20%22type%22%3A%20%22LineString%22%7D%2C%20%22properties%22%3A%20%7B%7D%2C%20%22type%22%3A%20%22Feature%22%7D%2C%20%7B%22geometry%22%3A%20%7B%22coordinates%22%3A%20%5B%5B37.52705%2C%2055.84415%5D%2C%20%5B37.52705%2C%2055.84415%5D%2C%20%5B37.52731%2C%2055.84378%5D%5D%2C%20%22type%22%3A%20%22LineString%22%7D%2C%20%22properties%22%3A%20%7B%7D%2C%20%22type%22%3A%20%22Feature%22%7D%2C%20%7B%22geometry%22%3A%20%7B%22coordinates%22%3A%20%5B%5B37.52731%2C%2055.84378%5D%2C%20%5B37.52738%2C%2055.84368%5D%2C%20%5B37.52764%2C%2055.84333%5D%5D%2C%20%22type%22%3A%20%22LineString%22%7D%2C%20%22properties%22%3A%20%7B%7D%2C%20%22type%22%3A%20%22Feature%22%7D%2C%20%7B%22geometry%22%3A%20%7B%22coordinates%22%3A%20%5B%5B37.52764%2C%2055.84333%5D%2C%20%5B37.52764%2C%2055.84333%5D%5D%2C%20%22type%22%3A%20%22LineString%22%7D%2C%20%22properties%22%3A%20%7B%7D%2C%20%22type%22%3A%20%22Feature%22%7D%2C%20%7B%22geometry%22%3A%20%7B%22coordinates%22%3A%20%5B%5B37.52764%2C%2055.84333%5D%2C%20%5B37.52764%2C%2055.84333%5D%2C%20%5B37.52712%2C%2055.84321%5D%2C%20%5B37.52617%2C%2055.84298%5D%2C%20%5B37.52535%2C%2055.84273%5D%2C%20%5B37.52465%2C%2055.84252%5D%2C%20%5B37.52419%2C%2055.84236%5D%2C%20%5B37.52319%2C%2055.84202%5D%2C%20%5B37.52235%2C%2055.84172%5D%2C%20%5B37.52242%2C%2055.84163%5D%2C%20%5B37.52251%2C%2055.84153%5D%2C%20%5B37.52259%2C%2055.84145%5D%2C%20%5B37.52266%2C%2055.84138%5D%2C%20%5B37.52294%2C%2055.84114%5D%2C%20%5B37.5231%2C%2055.84101%5D%2C%20%5B37.52323%2C%2055.8409%5D%2C%20%5B37.52337%2C%2055.8408%5D%2C%20%5B37.52341%2C%2055.84077%5D%2C%20%5B37.52347%2C%2055.84072%5D%2C%20%5B37.52354%2C%2055.84067%5D%2C%20%5B37.52364%2C%2055.84061%5D%2C%20%5B37.52374%2C%2055.84056%5D%2C%20%5B37.52385%2C%2055.84052%5D%2C%20%5B37.52402%2C%2055.84046%5D%2C%20%5B37.52428%2C%2055.84039%5D%2C%20%5B37.52445%2C%2055.84034%5D%2C%20%5B37.52504%2C%2055.84016%5D%2C%20%5B37.5252%2C%2055.84024%5D%2C%20%5B37.52532%2C%2055.84031%5D%2C%20%5B37.52542%2C%2055.84038%5D%2C%20%5B37.52556%2C%2055.8405%5D%2C%20%5B37.52571%2C%2055.84065%5D%2C%20%5B37.5258%2C%2055.84074%5D%2C%20%5B37.5259%2C%2055.84083%5D%2C%20%5B37.52627%2C%2055.84117%5D%2C%20%5B37.52643%2C%2055.84132%5D%2C%20%5B37.52655%2C%2055.84139%5D%2C%20%5B37.52667%2C%2055.84143%5D%2C%20%5B37.52713%2C%2055.84153%5D%2C%20%5B37.5271%2C%2055.84168%5D%2C%20%5B37.52708%2C%2055.84177%5D%2C%20%5B37.52801%2C%2055.84195%5D%5D%2C%20%22type%22%3A%20%22LineString%22%7D%2C%20%22properties%22%3A%20%7B%7D%2C%20%22type%22%3A%20%22Feature%22%7D%2C%20%7B%22geometry%22%3A%20%7B%22coordinates%22%3A%20%5B%5B37.52801%2C%2055.84195%5D%2C%20%5B37.52708%2C%2055.84177%5D%2C%20%5B37.5271%2C%2055.84168%5D%2C%20%5B37.52713%2C%2055.84153%5D%2C%20%5B37.528347%2C%2055.841773%5D%5D%2C%20%22type%22%3A%20%22LineString%22%7D%2C%20%22properties%22%3A%20%7B%7D%2C%20%22type%22%3A%20%22Feature%22%7D%2C%20%7B%22geometry%22%3A%20%7B%22coordinates%22%3A%20%5B%5B37.528347%2C%2055.841773%5D%2C%20%5B37.52713%2C%2055.84153%5D%2C%20%5B37.52726%2C%2055.84132%5D%2C%20%5B37.52733%2C%2055.8412%5D%2C%20%5B37.52678%2C%2055.84056%5D%2C%20%5B37.52768%2C%2055.84033%5D%2C%20%5B37.52777%2C%2055.84033%5D%2C%20%5B37.52783%2C%2055.84041%5D%2C%20%5B37.52793%2C%2055.84056%5D%2C%20%5B37.52802%2C%2055.84068%5D%2C%20%5B37.52835%2C%2055.84061%5D%2C%20%5B37.52867%2C%2055.84078%5D%2C%20%5B37.52872%2C%2055.84089%5D%2C%20%5B37.52839%2C%2055.84103%5D%5D%2C%20%22type%22%3A%20%22LineString%22%7D%2C%20%22properties%22%3A%20%7B%7D%2C%20%22type%22%3A%20%22Feature%22%7D%2C%20%7B%22geometry%22%3A%20%7B%22coordinates%22%3A%20%5B%5B37.52839%2C%2055.84103%5D%2C%20%5B37.52872%2C%2055.84089%5D%2C%20%5B37.52867%2C%2055.84078%5D%2C%20%5B37.52835%2C%2055.84061%5D%2C%20%5B37.52802%2C%2055.84068%5D%2C%20%5B37.52793%2C%2055.84056%5D%2C%20%5B37.52783%2C%2055.84041%5D%2C%20%5B37.52824%2C%2055.840331%5D%5D%2C%20%22type%22%3A%20%22LineString%22%7D%2C%20%22properties%22%3A%20%7B%7D%2C%20%22type%22%3A%20%22Feature%22%7D%2C%20%7B%22geometry%22%3A%20%7B%22coordinates%22%3A%20%5B%5B37.52824%2C%2055.840331%5D%2C%20%5B37.52856%2C%2055.84027%5D%2C%20%5B37.52853%2C%2055.83991%5D%2C%20%5B37.52822%2C%2055.83953%5D%5D%2C%20%22type%22%3A%20%22LineString%22%7D%2C%20%22properties%22%3A%20%7B%7D%2C%20%22type%22%3A%20%22Feature%22%7D%2C%20%7B%22geometry%22%3A%20%7B%22coordinates%22%3A%20%5B%5B37.52822%2C%2055.83953%5D%2C%20%5B37.52822%2C%2055.83953%5D%2C%20%5B37.52834%2C%2055.8395%5D%2C%20%5B37.52903%2C%2055.83931%5D%2C%20%5B37.5294%2C%2055.83921%5D%2C%20%5B37.52922%2C%2055.83899%5D%2C%20%5B37.52894%2C%2055.83865%5D%2C%20%5B37.52838%2C%2055.83878%5D%5D%2C%20%22type%22%3A%20%22LineString%22%7D%2C%20%22properties%22%3A%20%7B%7D%2C%20%22type%22%3A%20%22Feature%22%7D%2C%20%7B%22geometry%22%3A%20%7B%22coordinates%22%3A%20%5B%5B37.52838%2C%2055.83878%5D%2C%20%5B37.52894%2C%2055.83865%5D%2C%20%5B37.52875%2C%2055.83845%5D%2C%20%5B37.52846%2C%2055.83813%5D%5D%2C%20%22type%22%3A%20%22LineString%22%7D%2C%20%22properties%22%3A%20%7B%7D%2C%20%22type%22%3A%20%22Feature%22%7D%2C%20%7B%22geometry%22%3A%20%7B%22coordinates%22%3A%20%5B%5B37.52846%2C%2055.83813%5D%2C%20%5B37.52846%2C%2055.83813%5D%2C%20%5B37.52839%2C%2055.83806%5D%2C%20%5B37.52811%2C%2055.83787%5D%2C%20%5B37.52793%2C%2055.83775%5D%2C%20%5B37.52817%2C%2055.83769%5D%2C%20%5B37.52854%2C%2055.8376%5D%2C%20%5B37.529%2C%2055.83748%5D%2C%20%5B37.528764%2C%2055.837197%5D%5D%2C%20%22type%22%3A%20%22LineString%22%7D%2C%20%22properties%22%3A%20%7B%7D%2C%20%22type%22%3A%20%22Feature%22%7D%2C%20%7B%22geometry%22%3A%20%7B%22coordinates%22%3A%20%5B%5B37.528764%2C%2055.837197%5D%2C%20%5B37.529%2C%2055.83748%5D%2C%20%5B37.52854%2C%2055.8376%5D%2C%20%5B37.52842%2C%2055.83746%5D%2C%20%5B37.5283%2C%2055.83744%5D%2C%20%5B37.52806%2C%2055.83716%5D%2C%20%5B37.52791%2C%2055.83702%5D%2C%20%5B37.52766%2C%2055.83708%5D%2C%20%5B37.52759%2C%2055.83707%5D%2C%20%5B37.52738%2C%2055.83681%5D%2C%20%5B37.52741%2C%2055.83677%5D%2C%20%5B37.52807%2C%2055.8366%5D%2C%20%5B37.52848%2C%2055.8365%5D%5D%2C%20%22type%22%3A%20%22LineString%22%7D%2C%20%22properties%22%3A%20%7B%7D%2C%20%22type%22%3A%20%22Feature%22%7D%2C%20%7B%22geometry%22%3A%20%7B%22coordinates%22%3A%20%5B%5B37.52848%2C%2055.8365%5D%2C%20%5B37.52848%2C%2055.8365%5D%2C%20%5B37.52864%2C%2055.83646%5D%2C%20%5B37.52942%2C%2055.83624%5D%2C%20%5B37.52904%2C%2055.83577%5D%2C%20%5B37.52896%2C%2055.83577%5D%2C%20%5B37.52885%2C%2055.83576%5D%2C%20%5B37.528738%2C%2055.835735%5D%5D%2C%20%22type%22%3A%20%22LineString%22%7D%2C%20%22properties%22%3A%20%7B%7D%2C%20%22type%22%3A%20%22Feature%22%7D%2C%20%7B%22geometry%22%3A%20%7B%22coordinates%22%3A%20%5B%5B37.528738%2C%2055.835735%5D%2C%20%5B37.52885%2C%2055.83576%5D%2C%20%5B37.52896%2C%2055.83577%5D%2C%20%5B37.52904%2C%2055.83577%5D%2C%20%5B37.52874%2C%2055.8353%5D%5D%2C%20%22type%22%3A%20%22LineString%22%7D%2C%20%22properties%22%3A%20%7B%7D%2C%20%22type%22%3A%20%22Feature%22%7D%2C%20%7B%22geometry%22%3A%20%7B%22coordinates%22%3A%20%5B%5B37.52874%2C%2055.8353%5D%2C%20%5B37.52874%2C%2055.8353%5D%2C%20%5B37.52924%2C%2055.83516%5D%2C%20%5B37.52936%2C%2055.83513%5D%2C%20%5B37.52948%2C%2055.8351%5D%2C%20%5B37.528813%2C%2055.834354%5D%5D%2C%20%22type%22%3A%20%22LineString%22%7D%2C%20%22properties%22%3A%20%7B%7D%2C%20%22type%22%3A%20%22Feature%22%7D%2C%20%7B%22geometry%22%3A%20%7B%22coordinates%22%3A%20%5B%5B37.528813%2C%2055.834354%5D%2C%20%5B37.52872%2C%2055.83425%5D%2C%20%5B37.52902%2C%2055.83425%5D%2C%20%5B37.52941%2C%2055.83415%5D%2C%20%5B37.529025%2C%2055.833692%5D%5D%2C%20%22type%22%3A%20%22LineString%22%7D%2C%20%22properties%22%3A%20%7B%7D%2C%20%22type%22%3A%20%22Feature%22%7D%2C%20%7B%22geometry%22%3A%20%7B%22coordinates%22%3A%20%5B%5B37.529025%2C%2055.833692%5D%2C%20%5B37.52889%2C%2055.83353%5D%2C%20%5B37.52876%2C%2055.83338%5D%2C%20%5B37.52862%2C%2055.83321%5D%2C%20%5B37.52829%2C%2055.83281%5D%2C%20%5B37.52852%2C%2055.83275%5D%2C%20%5B37.52887%2C%2055.83265%5D%2C%20%5B37.52894%2C%2055.83272%5D%2C%20%5B37.529%2C%2055.83279%5D%5D%2C%20%22type%22%3A%20%22LineString%22%7D%2C%20%22properties%22%3A%20%7B%7D%2C%20%22type%22%3A%20%22Feature%22%7D%5D%2C%20%22type%22%3A%20%22FeatureCollection%22%7D%29%3B%0A%0A%20%20%20%20%20%20%20%20%0A%3C/script%3E onload=\"this.contentDocument.open();this.contentDocument.write(    decodeURIComponent(this.getAttribute('data-html')));this.contentDocument.close();\" allowfullscreen webkitallowfullscreen mozallowfullscreen></iframe></div></div>"
      ],
      "text/plain": [
       "<folium.folium.Map at 0x1a5c7559430>"
      ]
     },
     "execution_count": 137,
     "metadata": {},
     "output_type": "execute_result"
    }
   ],
   "source": [
    "m1\n",
    "m2\n",
    "m3"
   ]
  },
  {
   "cell_type": "code",
   "execution_count": null,
   "metadata": {},
   "outputs": [],
   "source": []
  }
 ],
 "metadata": {
  "kernelspec": {
   "display_name": "Python 3",
   "language": "python",
   "name": "python3"
  },
  "language_info": {
   "codemirror_mode": {
    "name": "ipython",
    "version": 3
   },
   "file_extension": ".py",
   "mimetype": "text/x-python",
   "name": "python",
   "nbconvert_exporter": "python",
   "pygments_lexer": "ipython3",
   "version": "3.8.8"
  }
 },
 "nbformat": 4,
 "nbformat_minor": 4
}
